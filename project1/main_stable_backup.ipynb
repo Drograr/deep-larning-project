{
 "cells": [
  {
   "cell_type": "code",
   "execution_count": 1,
   "metadata": {},
   "outputs": [
    {
     "name": "stdout",
     "output_type": "stream",
     "text": [
      "Libraries Imported\n",
      "Cuda Device Found?  True\n"
     ]
    }
   ],
   "source": [
    "import torch\n",
    "from torch import nn\n",
    "from torch.nn import functional as F\n",
    "import matplotlib.pyplot as plt\n",
    "import dlc_practical_prologue2 as prologue\n",
    "import seaborn as sns\n",
    "sns.set()\n",
    "\n",
    "device = torch.device('cuda' if torch.cuda.is_available() else 'cpu')\n",
    "# device = torch.device('cpu')\n",
    "print('Libraries Imported')\n",
    "print('Cuda Device Found? ', torch.cuda.is_available())\n",
    "\n",
    "if torch.cuda.is_available == True:\n",
    "    print('Type of Cuda Device:', torch.cuda.get_device_name(device))"
   ]
  },
  {
   "cell_type": "markdown",
   "metadata": {},
   "source": [
    "To get the data for the first project, we are using one of the functions of *dlc_practical_prologe.py* that randomly generates one for us given a size parameter. It returns a tuple containing the: *training set, targets, classes* and *testing set, targets, classes*. "
   ]
  },
  {
   "cell_type": "code",
   "execution_count": 2,
   "metadata": {},
   "outputs": [],
   "source": [
    "sample_size = 1000\n",
    "sets = prologue.generate_pair_sets(sample_size)\n",
    "\n",
    "train_set = sets[0]\n",
    "train_target = sets[1]\n",
    "train_classes = sets[2]\n",
    "\n",
    "test_set = sets[3]\n",
    "test_target = sets[4]\n",
    "test_classes = sets[5]\n",
    "\n",
    "one_hot_classes = F.one_hot(train_classes, num_classes = 10).float()"
   ]
  },
  {
   "cell_type": "markdown",
   "metadata": {},
   "source": [
    "The inputs are grayscale MNIST images consisting of two channels ($2 \\times 14 \\times 14$) representing two different digits. As visualized below, target vector contains the index of the channels which have the highest digit between the two (channel $0$ or $1$). \n",
    "\n",
    "Therefore, our task is to maximize the prediction of this boolean value."
   ]
  },
  {
   "cell_type": "code",
   "execution_count": 3,
   "metadata": {},
   "outputs": [
    {
     "name": "stdout",
     "output_type": "stream",
     "text": [
      "For the first training data point with two channels, target is 0\n"
     ]
    },
    {
     "data": {
      "image/png": "[encoded data removed]",
      "text/plain": [
       "<Figure size 720x504 with 2 Axes>"
      ]
     },
     "metadata": {},
     "output_type": "display_data"
    }
   ],
   "source": [
    "print('For the first training data point with two channels, target is {}'.format(train_target[0]))\n",
    "fig1, axes = plt.subplots(1, 2, figsize = (10, 7))\n",
    "ax = axes.ravel()\n",
    "\n",
    "for i in range(len(ax)):\n",
    "    ax[i].set_title('Channel #{} - Class: {}'.format(i, train_classes[0][i]))\n",
    "    ax[i].imshow(train_set[0][i], cmap='copper')\n",
    "    ax[i].axis('off')\n",
    "plt.show()"
   ]
  },
  {
   "cell_type": "markdown",
   "metadata": {},
   "source": [
    "Put the data tensors to the CUDA device (if found)."
   ]
  },
  {
   "cell_type": "code",
   "execution_count": 4,
   "metadata": {},
   "outputs": [
    {
     "name": "stdout",
     "output_type": "stream",
     "text": [
      "Train Set in cuda device? True\n"
     ]
    }
   ],
   "source": [
    "train_set, test_set = train_set.to(device), test_set.to(device)\n",
    "train_target, test_target = train_target.to(device), test_target.to(device)\n",
    "train_classes, test_classes = train_classes.to(device), test_classes.to(device)\n",
    "one_hot_classes = one_hot_classes.to(device)\n",
    "\n",
    "print('Train Set in cuda device?', train_set.is_cuda)"
   ]
  },
  {
   "attachments": {},
   "cell_type": "markdown",
   "metadata": {},
   "source": [
    "##### Train Function\n",
    "\n",
    "Function to train the model by moving it through the given mini batch size and using Adam as an optimizer with Cosine Annealing with Warm Restarts as its scheduler.\n",
    "\n",
    "Calculation of the auxiliary loss using target classes is enabled by default and if someone wants no auxiliary loss, setting *gamma* $\\gamma = 0$ does the job.\n",
    "\n",
    "Number of epochs $e$, learning rate $\\eta$, auxiliary loss multiplier $\\gamma$, main loss criterion $l$, and batch size $b$ are taken as hyper-parameters."
   ]
  },
  {
   "cell_type": "code",
   "execution_count": 5,
   "metadata": {},
   "outputs": [],
   "source": [
    "def train_model(n_epochs, eta, gamma, loss_criterion, model, train_input, train_target, train_classes, mini_batch_size):\n",
    "    aux_loss_criterion = nn.CrossEntropyLoss()\n",
    "    optimizer = torch.optim.Adam(model.parameters(), weight_decay=0.01, lr = eta)\n",
    "    scheduler = torch.optim.lr_scheduler.CosineAnnealingWarmRestarts(optimizer, T_0 = 5, T_mult = 1, eta_min = 0.0001)\n",
    "    losses = []\n",
    "    for _ in range(n_epochs):\n",
    "        acc_loss = 0 ## set error as 0 each iteration\n",
    "        ## Using mini-batches\n",
    "        for b in range(0, train_input.size(0), mini_batch_size): \n",
    "                        \n",
    "            ### Setting the gradients to zero before the loss calculation\n",
    "            model.zero_grad()\n",
    "            ### Train function expects a model with two outputs otherwise it will not work\n",
    "            output, output_aux = model(train_input.narrow(0, b, mini_batch_size))\n",
    "            # print('Loss Shapes: Output: {}, Target: {}'.format(output.shape, train_target.narrow(0, b, mini_batch_size).shape))\n",
    "            main_loss = loss_criterion(output, train_target.narrow(0, b, mini_batch_size).float())\n",
    "            # print('Aux Shapes: ', output_aux.shape, train_classes.narrow(0, b, mini_batch_size).shape)\n",
    "            # print('Reshaped and Softmax', F.softmax(output_aux.view(mini_batch_size, 2, 10), dim = 2))\n",
    "            \n",
    "            ### Outputs needed to go in the auxiliary loss calculation are reshaped to the (n_batches x images channels x number of classes) dimension\n",
    "            ### After reshaping, a softmax function is applied to convert them to probabilities needing to be compared with 10 one-hot-encoded targets\n",
    "            aux_loss = aux_loss_criterion(F.softmax(output_aux.view(mini_batch_size, 2, 10), dim = 2), train_classes.narrow(0, b, mini_batch_size))\n",
    "            \n",
    "            ### Total loss calculated as a function of the main loss and auxiliary loss\n",
    "            loss = main_loss + (gamma * aux_loss)\n",
    "            \n",
    "            acc_loss = acc_loss + loss.item()\n",
    "            loss.backward()\n",
    "            optimizer.step()\n",
    "        scheduler.step()\n",
    "        losses.append(loss.item())\n",
    "    \n",
    "    ## Needed if you want to plot the loss over epochs\n",
    "    all_epochs = [i + 1 for i in range(n_epochs)]    \n",
    "    \n",
    "    # plt.figure()\n",
    "    # plt.plot(all_epochs, losses, linewidth = 3, color = 'turquoise')\n",
    "    # plt.title('Aux Loss over epochs (Cosine Annealing LR Scheduler)')\n",
    "    # plt.xlabel('Number of Epochs')\n",
    "    # plt.ylabel('Loss')\n",
    "    # plt.show()\n",
    "    \n",
    "    # print('Final Output: ', output, output.shape)\n",
    "    # print('Model Training Finished - Final loss after {} epochs: {}'.format(n_epochs, acc_loss))"
   ]
  },
  {
   "attachments": {},
   "cell_type": "markdown",
   "metadata": {},
   "source": [
    "##### Error Function\n",
    "\n",
    "Round the final values outputted from the network into binary values and compare them with the target binary matrix in order to get the number of errors.\n",
    "\n",
    "The sigmoid function $\\sigma(x) = \\frac 1 {1+exp(-x)}$ is applied to the output to distribute the output values between $0$ and $1$, after which a rounding process happens to finally compare them with our binary targets. "
   ]
  },
  {
   "cell_type": "code",
   "execution_count": 6,
   "metadata": {},
   "outputs": [],
   "source": [
    "def compute_nb_errors(model, input, target, mini_batch_size):\n",
    "    nb_errors = 0\n",
    "    with torch.no_grad():\n",
    "        for b in range(0, input.size(0), mini_batch_size):\n",
    "            \n",
    "            ### When we apply sigmoid inside the model\n",
    "            # output = model(input.narrow(0, b, mini_batch_size))\n",
    "            output, _ = model(input.narrow(0, b, mini_batch_size))\n",
    "            output_sigmoid = torch.sigmoid(output)\n",
    "            # print('final output', output)\n",
    "            errors = torch.where(torch.round(output_sigmoid) != target.narrow(0, b, mini_batch_size))\n",
    "\n",
    "            ## Errors return a tuple with the first element being a tensor with indexes\n",
    "            ## Where the targets and predictions dont match\n",
    "            ## Therefore we get the size of this tensor as a number of errors\n",
    "            nb_errors += errors[0].size(0) \n",
    "    return nb_errors"
   ]
  },
  {
   "attachments": {},
   "cell_type": "markdown",
   "metadata": {},
   "source": [
    "##### Defining models\n",
    "Cell that imports all models discussed in the report, MLP, LegacyCNN, CNN + Weight Sharing. \n",
    "\n",
    "Specifically, a classical Binary Convolutional Network Classifier inspired by LeNet, with convolutional layers as feature extractors and fully connected layers as classifiers, and a \n",
    "a Multi-Layer Perceptron with only linear hidden layers, constructed in order to compare the difference between this and the convolutional network, measuring the overfitting too. \n",
    "\n",
    "All models includes dropout layers with respective rates of $p_D$ set as a parameter and share a weight decay parameter on the Adam Optimizer, as measures to combat overfitting. CNN models have the dropout layer before the final output layer while the MLP model has a dropout layer after each FC layer.\n",
    "\n",
    "All models have auxiliary loss using the target classes implemented, with the $\\gamma$ hyper-parameter defining the effect of it. If you don't want auxiliary loss, set $\\gamma = 0$ when calling the train function.\n",
    "\n",
    "Check the corresponding *.py* files to inspect the full models."
   ]
  },
  {
   "cell_type": "code",
   "execution_count": 7,
   "metadata": {},
   "outputs": [
    {
     "name": "stdout",
     "output_type": "stream",
     "text": [
      "models imported\n"
     ]
    }
   ],
   "source": [
    "from models.MLP_model import MLP\n",
    "from models.CNN_first_model import BinaryCNNLegacy\n",
    "from models.CNN_model_aux import BinaryCNNAux\n",
    "from models.CNN_weight_sharing_model import BinaryCNNSharing\n",
    "\n",
    "print('models imported')"
   ]
  },
  {
   "attachments": {},
   "cell_type": "markdown",
   "metadata": {},
   "source": [
    "Training cell for one model, to be easily switched between MLP and CNN. \n",
    "\n",
    "Hyperparameters after benchmarking (average over 10 runs): $40$ - $50$ batch size seems to be the best, $0.01$ or $0.001$ weight decay, $10-25$ epochs sufficient.\n",
    "\n",
    "As for dropout probability $p_D$, in CNN models values in $\\in [0, 0.2]$ are suggested however at the moment better performances are computed with no dropout, while in the MLP model values in $\\in [0.1, 0.5]$."
   ]
  },
  {
   "cell_type": "code",
   "execution_count": 19,
   "metadata": {},
   "outputs": [
    {
     "name": "stdout",
     "output_type": "stream",
     "text": [
      "Classification Error on the training set with 5 epochs and dropout rate 0.1 - Average: 0.57%\n",
      "Classification Error on the testing set with 5 epochs and dropout rate 0.1 - Average: 13.20%, Minimum: 12.00%, SD: 0.01\n",
      "\n",
      "Classification Error on the training set with 10 epochs and dropout rate 0.1 - Average: 0.01%\n",
      "Classification Error on the testing set with 10 epochs and dropout rate 0.1 - Average: 13.24%, Minimum: 11.90%, SD: 0.01\n",
      "\n",
      "Classification Error on the training set with 15 epochs and dropout rate 0.1 - Average: 0.00%\n",
      "Classification Error on the testing set with 15 epochs and dropout rate 0.1 - Average: 13.92%, Minimum: 13.20%, SD: 0.01\n",
      "\n",
      "Classification Error on the training set with 25 epochs and dropout rate 0.1 - Average: 0.00%\n",
      "Classification Error on the testing set with 25 epochs and dropout rate 0.1 - Average: 13.91%, Minimum: 12.40%, SD: 0.01\n",
      "\n",
      "Classification Error on the training set with 30 epochs and dropout rate 0.1 - Average: 0.00%\n",
      "Classification Error on the testing set with 30 epochs and dropout rate 0.1 - Average: 13.45%, Minimum: 12.20%, SD: 0.01\n",
      "\n",
      "Classification Error on the training set with 50 epochs and dropout rate 0.1 - Average: 0.00%\n",
      "Classification Error on the testing set with 50 epochs and dropout rate 0.1 - Average: 13.94%, Minimum: 12.50%, SD: 0.01\n",
      "\n",
      "Classification Error on the training set with 5 epochs and dropout rate 0.2 - Average: 0.96%\n",
      "Classification Error on the testing set with 5 epochs and dropout rate 0.2 - Average: 13.63%, Minimum: 11.80%, SD: 0.01\n",
      "\n",
      "Classification Error on the training set with 10 epochs and dropout rate 0.2 - Average: 0.04%\n",
      "Classification Error on the testing set with 10 epochs and dropout rate 0.2 - Average: 13.56%, Minimum: 12.50%, SD: 0.01\n",
      "\n",
      "Classification Error on the training set with 15 epochs and dropout rate 0.2 - Average: 0.00%\n",
      "Classification Error on the testing set with 15 epochs and dropout rate 0.2 - Average: 14.00%, Minimum: 12.30%, SD: 0.01\n",
      "\n",
      "Classification Error on the training set with 25 epochs and dropout rate 0.2 - Average: 0.01%\n",
      "Classification Error on the testing set with 25 epochs and dropout rate 0.2 - Average: 14.03%, Minimum: 13.00%, SD: 0.01\n",
      "\n",
      "Classification Error on the training set with 30 epochs and dropout rate 0.2 - Average: 0.02%\n",
      "Classification Error on the testing set with 30 epochs and dropout rate 0.2 - Average: 14.70%, Minimum: 12.80%, SD: 0.01\n",
      "\n",
      "Classification Error on the training set with 50 epochs and dropout rate 0.2 - Average: 0.00%\n",
      "Classification Error on the testing set with 50 epochs and dropout rate 0.2 - Average: 14.36%, Minimum: 13.00%, SD: 0.01\n",
      "\n",
      "Classification Error on the training set with 5 epochs and dropout rate 0.3 - Average: 0.98%\n",
      "Classification Error on the testing set with 5 epochs and dropout rate 0.3 - Average: 13.47%, Minimum: 12.60%, SD: 0.01\n",
      "\n",
      "Classification Error on the training set with 10 epochs and dropout rate 0.3 - Average: 0.06%\n",
      "Classification Error on the testing set with 10 epochs and dropout rate 0.3 - Average: 14.18%, Minimum: 13.40%, SD: 0.01\n",
      "\n",
      "Classification Error on the training set with 15 epochs and dropout rate 0.3 - Average: 0.02%\n",
      "Classification Error on the testing set with 15 epochs and dropout rate 0.3 - Average: 14.47%, Minimum: 13.40%, SD: 0.01\n",
      "\n",
      "Classification Error on the training set with 25 epochs and dropout rate 0.3 - Average: 0.00%\n",
      "Classification Error on the testing set with 25 epochs and dropout rate 0.3 - Average: 14.72%, Minimum: 14.00%, SD: 0.01\n",
      "\n",
      "Classification Error on the training set with 30 epochs and dropout rate 0.3 - Average: 0.01%\n",
      "Classification Error on the testing set with 30 epochs and dropout rate 0.3 - Average: 14.91%, Minimum: 13.60%, SD: 0.01\n",
      "\n",
      "Classification Error on the training set with 50 epochs and dropout rate 0.3 - Average: 0.00%\n",
      "Classification Error on the testing set with 50 epochs and dropout rate 0.3 - Average: 15.47%, Minimum: 13.80%, SD: 0.01\n",
      "\n",
      "Classification Error on the training set with 5 epochs and dropout rate 0.4 - Average: 1.98%\n",
      "Classification Error on the testing set with 5 epochs and dropout rate 0.4 - Average: 13.77%, Minimum: 12.70%, SD: 0.01\n",
      "\n",
      "Classification Error on the training set with 10 epochs and dropout rate 0.4 - Average: 0.06%\n",
      "Classification Error on the testing set with 10 epochs and dropout rate 0.4 - Average: 14.36%, Minimum: 13.50%, SD: 0.01\n",
      "\n",
      "Classification Error on the training set with 15 epochs and dropout rate 0.4 - Average: 0.03%\n",
      "Classification Error on the testing set with 15 epochs and dropout rate 0.4 - Average: 15.45%, Minimum: 14.20%, SD: 0.01\n",
      "\n",
      "Classification Error on the training set with 25 epochs and dropout rate 0.4 - Average: 0.00%\n",
      "Classification Error on the testing set with 25 epochs and dropout rate 0.4 - Average: 15.40%, Minimum: 13.70%, SD: 0.01\n",
      "\n",
      "Classification Error on the training set with 30 epochs and dropout rate 0.4 - Average: 0.01%\n",
      "Classification Error on the testing set with 30 epochs and dropout rate 0.4 - Average: 15.70%, Minimum: 14.70%, SD: 0.01\n",
      "\n",
      "Classification Error on the training set with 50 epochs and dropout rate 0.4 - Average: 0.00%\n",
      "Classification Error on the testing set with 50 epochs and dropout rate 0.4 - Average: 16.17%, Minimum: 14.90%, SD: 0.01\n",
      "\n"
     ]
    }
   ],
   "source": [
    "### Loss Criterions & One Hot Encoded target classes\n",
    "binary_criterion = nn.BCEWithLogitsLoss()\n",
    "\n",
    "### Hyper-Parameters\n",
    "eta = 0.001  ## LR\n",
    "mini_batch_size = 50\n",
    "nb_epochs = 25\n",
    "n_runs = 10\n",
    "epochs = [5, 10, 15, 25, 30, 50]\n",
    "aux_gammas = [1.0, 0.7, 0.6]  ## Aux Loss Multiplier\n",
    "dropout_rates = [0.1, 0.2, 0.3, 0.4]\n",
    "\n",
    "for d in dropout_rates:\n",
    "    for e in epochs:\n",
    "        avg_error_train = []\n",
    "        avg_error_test = []\n",
    "        for i in range(n_runs):\n",
    "            # model = MLP(dropout_rate = 0.4)\n",
    "            # model = BinaryCNNLegacy(dropout_rate = 0.2)      \n",
    "            # model = BinaryCNNAux(dropout_rate = 0.2)  \n",
    "            model = BinaryCNNSharing(dropout_rate = d)\n",
    "\n",
    "            model.to(device) ### Putting model to cuda device or cpu is there is no cuda device\n",
    "            train_model(e, eta, 1.0, binary_criterion, model, train_set, train_target, one_hot_classes, mini_batch_size)\n",
    "            \n",
    "            model.eval()    \n",
    "            error_train = compute_nb_errors(model, train_set, train_target.to(torch.float64), mini_batch_size)\n",
    "            avg_error_train.append(error_train / train_set.size(0))\n",
    "            error_test = compute_nb_errors(model, test_set, test_target.to(torch.float64), mini_batch_size)\n",
    "            avg_error_test.append(error_test / train_set.size(0))\n",
    "\n",
    "        print('Classification Error on the training set with {} epochs and dropout rate {} - Average: {:.2f}%'.format(e, d, (sum(avg_error_train) / n_runs) * 100))\n",
    "        print('Classification Error on the testing set with {} epochs and dropout rate {} - Average: {:.2f}%, Minimum: {:.2f}%, SD: {:.2f}'.format(\n",
    "            e,\n",
    "            d,\n",
    "            (sum(avg_error_test) / n_runs) * 100, \n",
    "            min(avg_error_test) * 100, \n",
    "            torch.std(torch.Tensor(avg_error_test))\n",
    "            ))           \n",
    "        print('')"
   ]
  },
  {
   "cell_type": "markdown",
   "metadata": {},
   "source": [
    "Training cell for both models to calculate their performance on the testing set and to be used for benchmarking & fine-tuning with different hyperparameters."
   ]
  },
  {
   "cell_type": "code",
   "execution_count": 11,
   "metadata": {},
   "outputs": [
    {
     "name": "stdout",
     "output_type": "stream",
     "text": [
      "Average over 1 Epochs\n",
      "WSharingCNN - Train Classification Error: Average: 14.06%, Minimum: 12.70%\n",
      "WSharingCNN - Test Classification Error: Average: 17.37%, Minimum: 15.90%\n",
      "WSharingCNN + Auxiliary Loss - Train Classification Error: Average: 14.31%, Minimum: 12.60%\n",
      "WSharingCNN + Auxiliary Loss - Test Classification Error: Average: 17.50%, Minimum: 15.90%\n",
      "\n",
      "Average over 5 Epochs\n",
      "WSharingCNN - Train Classification Error: Average: 0.60%, Minimum: 0.10%\n",
      "WSharingCNN - Test Classification Error: Average: 13.23%, Minimum: 12.30%\n",
      "WSharingCNN + Auxiliary Loss - Train Classification Error: Average: 0.51%, Minimum: 0.20%\n",
      "WSharingCNN + Auxiliary Loss - Test Classification Error: Average: 13.32%, Minimum: 12.40%\n",
      "\n",
      "Average over 10 Epochs\n",
      "WSharingCNN - Train Classification Error: Average: 0.01%, Minimum: 0.00%\n",
      "WSharingCNN - Test Classification Error: Average: 12.96%, Minimum: 12.10%\n",
      "WSharingCNN + Auxiliary Loss - Train Classification Error: Average: 0.00%, Minimum: 0.00%\n",
      "WSharingCNN + Auxiliary Loss - Test Classification Error: Average: 12.70%, Minimum: 11.80%\n",
      "\n",
      "Average over 15 Epochs\n",
      "WSharingCNN - Train Classification Error: Average: 0.00%, Minimum: 0.00%\n",
      "WSharingCNN - Test Classification Error: Average: 13.32%, Minimum: 11.70%\n",
      "WSharingCNN + Auxiliary Loss - Train Classification Error: Average: 0.00%, Minimum: 0.00%\n",
      "WSharingCNN + Auxiliary Loss - Test Classification Error: Average: 13.24%, Minimum: 11.50%\n",
      "\n",
      "Average over 20 Epochs\n",
      "WSharingCNN - Train Classification Error: Average: 0.00%, Minimum: 0.00%\n",
      "WSharingCNN - Test Classification Error: Average: 14.21%, Minimum: 13.10%\n",
      "WSharingCNN + Auxiliary Loss - Train Classification Error: Average: 0.00%, Minimum: 0.00%\n",
      "WSharingCNN + Auxiliary Loss - Test Classification Error: Average: 13.69%, Minimum: 11.00%\n",
      "\n",
      "Average over 25 Epochs\n",
      "WSharingCNN - Train Classification Error: Average: 0.14%, Minimum: 0.00%\n",
      "WSharingCNN - Test Classification Error: Average: 14.08%, Minimum: 12.40%\n",
      "WSharingCNN + Auxiliary Loss - Train Classification Error: Average: 0.08%, Minimum: 0.00%\n",
      "WSharingCNN + Auxiliary Loss - Test Classification Error: Average: 13.53%, Minimum: 12.40%\n",
      "\n",
      "Average over 30 Epochs\n",
      "WSharingCNN - Train Classification Error: Average: 0.03%, Minimum: 0.00%\n",
      "WSharingCNN - Test Classification Error: Average: 13.25%, Minimum: 12.40%\n",
      "WSharingCNN + Auxiliary Loss - Train Classification Error: Average: 0.00%, Minimum: 0.00%\n",
      "WSharingCNN + Auxiliary Loss - Test Classification Error: Average: 13.47%, Minimum: 12.00%\n",
      "\n",
      "Average over 35 Epochs\n",
      "WSharingCNN - Train Classification Error: Average: 0.00%, Minimum: 0.00%\n",
      "WSharingCNN - Test Classification Error: Average: 14.02%, Minimum: 12.30%\n",
      "WSharingCNN + Auxiliary Loss - Train Classification Error: Average: 0.00%, Minimum: 0.00%\n",
      "WSharingCNN + Auxiliary Loss - Test Classification Error: Average: 13.40%, Minimum: 12.20%\n",
      "\n",
      "Average over 40 Epochs\n",
      "WSharingCNN - Train Classification Error: Average: 0.00%, Minimum: 0.00%\n",
      "WSharingCNN - Test Classification Error: Average: 14.32%, Minimum: 13.00%\n",
      "WSharingCNN + Auxiliary Loss - Train Classification Error: Average: 0.00%, Minimum: 0.00%\n",
      "WSharingCNN + Auxiliary Loss - Test Classification Error: Average: 13.44%, Minimum: 12.20%\n",
      "\n",
      "Average over 45 Epochs\n",
      "WSharingCNN - Train Classification Error: Average: 0.03%, Minimum: 0.00%\n",
      "WSharingCNN - Test Classification Error: Average: 14.76%, Minimum: 13.40%\n",
      "WSharingCNN + Auxiliary Loss - Train Classification Error: Average: 0.02%, Minimum: 0.00%\n",
      "WSharingCNN + Auxiliary Loss - Test Classification Error: Average: 13.93%, Minimum: 12.10%\n",
      "\n",
      "Average over 50 Epochs\n",
      "WSharingCNN - Train Classification Error: Average: 0.01%, Minimum: 0.00%\n",
      "WSharingCNN - Test Classification Error: Average: 14.83%, Minimum: 13.10%\n",
      "WSharingCNN + Auxiliary Loss - Train Classification Error: Average: 0.05%, Minimum: 0.00%\n",
      "WSharingCNN + Auxiliary Loss - Test Classification Error: Average: 13.92%, Minimum: 12.70%\n",
      "\n",
      "Average over 55 Epochs\n",
      "WSharingCNN - Train Classification Error: Average: 0.01%, Minimum: 0.00%\n",
      "WSharingCNN - Test Classification Error: Average: 14.17%, Minimum: 12.70%\n",
      "WSharingCNN + Auxiliary Loss - Train Classification Error: Average: 0.00%, Minimum: 0.00%\n",
      "WSharingCNN + Auxiliary Loss - Test Classification Error: Average: 13.49%, Minimum: 12.70%\n",
      "\n",
      "Average over 60 Epochs\n",
      "WSharingCNN - Train Classification Error: Average: 0.00%, Minimum: 0.00%\n",
      "WSharingCNN - Test Classification Error: Average: 14.56%, Minimum: 12.50%\n",
      "WSharingCNN + Auxiliary Loss - Train Classification Error: Average: 0.01%, Minimum: 0.00%\n",
      "WSharingCNN + Auxiliary Loss - Test Classification Error: Average: 14.14%, Minimum: 12.70%\n",
      "\n",
      "Average over 65 Epochs\n",
      "WSharingCNN - Train Classification Error: Average: 0.00%, Minimum: 0.00%\n",
      "WSharingCNN - Test Classification Error: Average: 14.82%, Minimum: 13.60%\n",
      "WSharingCNN + Auxiliary Loss - Train Classification Error: Average: 0.01%, Minimum: 0.00%\n",
      "WSharingCNN + Auxiliary Loss - Test Classification Error: Average: 13.64%, Minimum: 11.70%\n",
      "\n",
      "Average over 70 Epochs\n",
      "WSharingCNN - Train Classification Error: Average: 0.01%, Minimum: 0.00%\n",
      "WSharingCNN - Test Classification Error: Average: 15.01%, Minimum: 13.50%\n",
      "WSharingCNN + Auxiliary Loss - Train Classification Error: Average: 0.01%, Minimum: 0.00%\n",
      "WSharingCNN + Auxiliary Loss - Test Classification Error: Average: 14.52%, Minimum: 12.90%\n",
      "\n",
      "Average over 75 Epochs\n",
      "WSharingCNN - Train Classification Error: Average: 0.00%, Minimum: 0.00%\n",
      "WSharingCNN - Test Classification Error: Average: 15.63%, Minimum: 13.50%\n",
      "WSharingCNN + Auxiliary Loss - Train Classification Error: Average: 0.01%, Minimum: 0.00%\n",
      "WSharingCNN + Auxiliary Loss - Test Classification Error: Average: 14.14%, Minimum: 12.50%\n",
      "\n",
      "Average over 80 Epochs\n",
      "WSharingCNN - Train Classification Error: Average: 0.01%, Minimum: 0.00%\n",
      "WSharingCNN - Test Classification Error: Average: 15.41%, Minimum: 13.60%\n",
      "WSharingCNN + Auxiliary Loss - Train Classification Error: Average: 0.00%, Minimum: 0.00%\n",
      "WSharingCNN + Auxiliary Loss - Test Classification Error: Average: 14.03%, Minimum: 12.70%\n",
      "\n"
     ]
    }
   ],
   "source": [
    "### Shared parameters to both models\n",
    "binary_criterion = nn.BCEWithLogitsLoss()\n",
    "mini_batch_size = 50\n",
    "n_runs = 10\n",
    "eta = 0.001\n",
    "aux_gamma = 0.0\n",
    "\n",
    "### Lists for Plotting & Benchmarks Purposes\n",
    "# all_epochs = [i + 1 for i in range(50)]\n",
    "all_epochs = [1] + [i for i in range(5, 80 + 1, 5)]\n",
    "all_errors_cnn_train = []\n",
    "all_errors_mlp_train = []\n",
    "all_errors_cnn = []\n",
    "all_errors_mlp = []\n",
    "test_sd_cnn = []\n",
    "test_sd_mlp = []\n",
    "test_max_cnn = []\n",
    "test_max_mlp = []\n",
    "test_min_cnn = []\n",
    "test_min_mlp = []\n",
    "\n",
    "\n",
    "for e in range(len(all_epochs)):\n",
    "    avg_error_train_cnn = []\n",
    "    avg_error_test_cnn = []\n",
    "    avg_error_train_mlp = []\n",
    "    avg_error_test_mlp = []\n",
    "    print('Average over {} Epochs'.format(all_epochs[e]))\n",
    "    for i in range(n_runs):   \n",
    "        conv_model = BinaryCNNSharing(dropout_rate = 0.0)\n",
    "        mlp_model = BinaryCNNSharing(dropout_rate = 0.0)\n",
    "        \n",
    "        ## Training CNN - 1.0 Gamma for full auxiliary loss\n",
    "        conv_model.to(device)\n",
    "        train_model(all_epochs[e], eta, 1.0, binary_criterion, conv_model, train_set, train_target, one_hot_classes, mini_batch_size)\n",
    "        \n",
    "        ## Training MLP - 0.0 Gamma for no auxiliary loss\n",
    "        mlp_model.to(device)\n",
    "        train_model(all_epochs[e], eta, 0.0, binary_criterion, mlp_model, train_set, train_target, one_hot_classes, mini_batch_size)\n",
    "            \n",
    "        conv_model.eval()\n",
    "        conv_errors_train = compute_nb_errors(conv_model, train_set, train_target.to(torch.float64), mini_batch_size)\n",
    "        conv_errors_test = compute_nb_errors(conv_model, test_set, test_target.to(torch.float64), mini_batch_size)\n",
    "        avg_error_train_cnn.append(conv_errors_train / train_set.size(0))\n",
    "        avg_error_test_cnn.append(conv_errors_test / test_set.size(0))\n",
    "        \n",
    "        mlp_model.eval()\n",
    "        mlp_errors_train = compute_nb_errors(mlp_model, train_set, train_target.to(torch.float64), mini_batch_size)\n",
    "        mlp_errors_test = compute_nb_errors(mlp_model, test_set, test_target.to(torch.float64), mini_batch_size)\n",
    "        avg_error_train_mlp.append(mlp_errors_train / train_set.size(0))\n",
    "        avg_error_test_mlp.append(mlp_errors_test / test_set.size(0))\n",
    "\n",
    "    all_errors_cnn_train.append(sum(avg_error_train_cnn) / n_runs)\n",
    "    all_errors_cnn.append(sum(avg_error_test_cnn) / n_runs)\n",
    "    test_sd_cnn.append(torch.std(torch.Tensor(avg_error_test_cnn)))\n",
    "    test_min_cnn.append(min(avg_error_test_cnn))\n",
    "    test_max_cnn.append(max(avg_error_test_cnn))\n",
    "    \n",
    "    all_errors_mlp_train.append(sum(avg_error_train_mlp) / n_runs)\n",
    "    all_errors_mlp.append(sum(avg_error_test_mlp) / n_runs)\n",
    "    test_sd_mlp.append(torch.std(torch.Tensor(avg_error_test_mlp)))\n",
    "    test_min_mlp.append(min(avg_error_test_mlp))\n",
    "    test_max_mlp.append(max(avg_error_test_mlp))\n",
    "\n",
    "\n",
    "    print('WSharingCNN - Train Classification Error: Average: {:.2f}%, Minimum: {:.2f}%'.format((all_errors_mlp_train[e] * 100), (min(avg_error_train_mlp) * 100)))\n",
    "    print('WSharingCNN - Test Classification Error: Average: {:.2f}%, Minimum: {:.2f}%'.format((all_errors_mlp[e] * 100), (min(avg_error_test_mlp) * 100)))\n",
    "    print('WSharingCNN + Auxiliary Loss - Train Classification Error: Average: {:.2f}%, Minimum: {:.2f}%'.format((all_errors_cnn_train[e] * 100), (min(avg_error_train_cnn) * 100)))\n",
    "    print('WSharingCNN + Auxiliary Loss - Test Classification Error: Average: {:.2f}%, Minimum: {:.2f}%\\n'.format((all_errors_cnn[e] * 100), (min(avg_error_test_cnn) * 100)))"
   ]
  },
  {
   "cell_type": "markdown",
   "metadata": {},
   "source": [
    "As we can view from the plot below, the overfitting on the testing set persists no matter the number of epochs."
   ]
  },
  {
   "cell_type": "code",
   "execution_count": 14,
   "metadata": {},
   "outputs": [
    {
     "data": {
      "image/png": "[encoded data removed]",
      "text/plain": [
       "<Figure size 1152x432 with 2 Axes>"
      ]
     },
     "metadata": {},
     "output_type": "display_data"
    }
   ],
   "source": [
    "import seaborn as sns\n",
    "sns.set()\n",
    "\n",
    "fig, axs = plt.subplots(1, 2, figsize=(16, 6))\n",
    "fig.suptitle('Error rate on Weight Sharing CNN + Auxiliary Loss (\\u03B3 = 1.0) - Average over 10 runs')\n",
    "axs[0].set_title(\"Train Set\")\n",
    "axs[0].plot(all_epochs, all_errors_cnn_train, alpha=0.6, linewidth=4, color='turquoise', label='Weight Sharing CNN + Auxiliary Loss')\n",
    "axs[0].plot(all_epochs, all_errors_mlp_train, alpha=0.6, linewidth=4, color='maroon', label='Weight Sharing CNN')\n",
    "axs[0].legend(loc='upper right')\n",
    "\n",
    "axs[1].set\n",
    "axs[1].set_title(\"Test Set\")\n",
    "axs[1].plot(all_epochs, all_errors_cnn, alpha=0.6, linewidth=4, color='turquoise', label='Weight Sharing CNN + Auxiliary Loss')\n",
    "axs[1].plot(all_epochs, all_errors_mlp, alpha=0.6, linewidth=4, color='maroon', label='Weight Sharing CNN')\n",
    "axs[1].fill_between(all_epochs, test_max_cnn, test_min_cnn, color='turquoise', alpha = 0.3)\n",
    "axs[1].fill_between(all_epochs, test_max_mlp, test_min_mlp, color='maroon', alpha = 0.2)\n",
    "axs[1].legend(loc='upper right')\n",
    "\n",
    "for ax in axs.flat:\n",
    "    ax.set(xlabel='Number of Epochs', ylabel='Error Rate', ylim=(-0.01, 0.5))\n",
    "plt.show()"
   ]
  }
 ],
 "metadata": {
  "kernelspec": {
   "display_name": "Python 3.9.7 64-bit",
   "language": "python",
   "name": "python3"
  },
  "language_info": {
   "codemirror_mode": {
    "name": "ipython",
    "version": 3
   },
   "file_extension": ".py",
   "mimetype": "text/x-python",
   "name": "python",
   "nbconvert_exporter": "python",
   "pygments_lexer": "ipython3",
   "version": "3.9.7"
  },
  "orig_nbformat": 4,
  "vscode": {
   "interpreter": {
    "hash": "6290ab70aa2c9e6859d722745d4fdeafb895ca1190e93c7ac9c8d926153eb965"
   }
  }
 },
 "nbformat": 4,
 "nbformat_minor": 2
}
