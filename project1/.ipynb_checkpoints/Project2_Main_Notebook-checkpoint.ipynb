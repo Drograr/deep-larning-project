{
 "cells": [
  {
   "cell_type": "code",
   "execution_count": 68,
   "metadata": {},
   "outputs": [
    {
     "name": "stdout",
     "output_type": "stream",
     "text": [
      "libraries imported\n"
     ]
    }
   ],
   "source": [
    "import torch\n",
    "from torch import nn\n",
    "from torch.nn import functional as F\n",
    "import matplotlib.pyplot as plt\n",
    "import dlc_practical_prologue2 as prologue\n",
    "\n",
    "print('libraries imported')"
   ]
  },
  {
   "cell_type": "markdown",
   "metadata": {},
   "source": [
    "To get the data for the first project, we are using one of the functions of *dlc_practical_prologe.py* that randomly generates one for us given a size parameter. It returns a tuple containing the: *training set, targets, classes* and *testing set, targets, classes*. "
   ]
  },
  {
   "cell_type": "code",
   "execution_count": 69,
   "metadata": {},
   "outputs": [],
   "source": [
    "sample_size = 1000\n",
    "sets = prologue.generate_pair_sets(sample_size)\n",
    "\n",
    "train_set = sets[0]\n",
    "train_target = sets[1]\n",
    "train_classes = sets[2]\n",
    "\n",
    "test_set = sets[3]\n",
    "test_target = sets[4]\n",
    "test_classes = sets[5]\n"
   ]
  },
  {
   "cell_type": "markdown",
   "metadata": {},
   "source": [
    "The inputs are grayscale MNIST images consisting of two channels ($2 \\times 14 \\times 14$) representing two different digits. As visualized below, target vector contains the index of the channels which have the highest digit between the two (channel $0$ or $1$). \n",
    "\n",
    "Therefore, our task is to maximize the prediction of this boolean value."
   ]
  },
  {
   "cell_type": "code",
   "execution_count": 70,
   "metadata": {},
   "outputs": [
    {
     "name": "stdout",
     "output_type": "stream",
     "text": [
      "For the first training data point with two channels, target is 1\n"
     ]
    },
    {
     "data": {
      "image/png": "[encoded data removed]",
      "text/plain": [
       "<Figure size 1000x700 with 2 Axes>"
      ]
     },
     "metadata": {},
     "output_type": "display_data"
    }
   ],
   "source": [
    "print('For the first training data point with two channels, target is {}'.format(train_target[0]))\n",
    "fig1, axes = plt.subplots(1, 2, figsize = (10, 7))\n",
    "ax = axes.ravel()\n",
    "\n",
    "for i in range(len(ax)):\n",
    "    ax[i].set_title('Channel #{} - Class: {}'.format(i, train_classes[0][i]))\n",
    "    ax[i].imshow(train_set[0][i], cmap='copper')\n",
    "    ax[i].axis('off')\n",
    "plt.show()"
   ]
  },
  {
   "cell_type": "markdown",
   "metadata": {},
   "source": [
    "Function to train the model by moving it through the given mini batch size and using Adam as an optimizer."
   ]
  },
  {
   "cell_type": "code",
   "execution_count": 71,
   "metadata": {},
   "outputs": [],
   "source": [
    "def train_model(n_epochs, eta, loss_criterion, optim, model, train_input, train_target, mini_batch_size):\n",
    "    optimizer = optim\n",
    "    for e in range(n_epochs):\n",
    "        acc_loss = 0 ## set error as 0 each iteration\n",
    "        ## Using mini-batches\n",
    "        for b in range(0, train_input.size(0), mini_batch_size): \n",
    "            output = model(train_input.narrow(0, b, mini_batch_size))\n",
    "            # print('Loss Shapes: Output: {}, Target: {}'.format(output.shape, train_target.narrow(0, b, mini_batch_size).shape))\n",
    "            loss = loss_criterion(output, train_target.narrow(0, b, mini_batch_size))\n",
    "            acc_loss = acc_loss + loss.item()\n",
    "\n",
    "            optimizer.zero_grad()\n",
    "            model.zero_grad() ## setting the gradients to zero before the loss calculation\n",
    "            loss.backward()\n",
    "            optimizer.step()\n",
    "            \n",
    "            with torch.no_grad():\n",
    "                for p in model.parameters():\n",
    "                    p -= eta * p.grad\n",
    "                    \n",
    "    # print('Final Output: ', output, output.shape)\n",
    "    # print(torch.argmax(output, dim=1))\n",
    "    print('Model Training Finished - Final loss after {} epochs: {}'.format(n_epochs, acc_loss))"
   ]
  },
  {
   "cell_type": "markdown",
   "metadata": {},
   "source": [
    "Round the final values outputted from the network into binary values and compare them with the target binary matrix in order to get the number of errors."
   ]
  },
  {
   "cell_type": "code",
   "execution_count": 72,
   "metadata": {},
   "outputs": [],
   "source": [
    "def compute_nb_errors(model, input, target):\n",
    "    with torch.no_grad():\n",
    "        rounded_to_binary = torch.round(input)\n",
    "        errors = torch.where(rounded_to_binary != train_target)\n",
    "    return len(errors[0]) / target.shape[0]"
   ]
  },
  {
   "cell_type": "markdown",
   "metadata": {},
   "source": [
    "Attempt #1 - Binary Convolutional Network Classifier that takes the number of the hidden layers of the final fully connected layer as a parameter. \n",
    "\n",
    "As seen from the results below, it suffers from overfitting at the moment therefore it should be modified (dropout to be added next)."
   ]
  },
  {
   "cell_type": "code",
   "execution_count": 73,
   "metadata": {},
   "outputs": [],
   "source": [
    "class BinaryCNN(nn.Module):\n",
    "    def __init__(self, hidden_layer_n, dropout_rate): ## defining the layers\n",
    "        super().__init__()\n",
    "        self.dropout = nn.Dropout(p=dropout_rate)\n",
    "        self.flatten0 = nn.Flatten(0)\n",
    "        self.flatten1 = nn.Flatten(1)\n",
    "        \n",
    "        # Feature Extractors\n",
    "        self.conv1 = nn.Conv2d(2, 32, kernel_size=3, stride=1)\n",
    "        self.conv2 = nn.Conv2d(32, 64, kernel_size=3, stride=1)\n",
    "        self.conv3 = nn.Conv2d(64, 64, kernel_size=1, stride=1)\n",
    "        \n",
    "        # Classifiers\n",
    "        self.fc1 = nn.Linear(64, hidden_layer_n)\n",
    "        self.fc2 = nn.Linear(hidden_layer_n, 1) ## output layers\n",
    "        \n",
    "    ## Generally, strides for convolution layers are 1 and for maxpools are 2\n",
    "    def forward(self, x): \n",
    "        x = F.max_pool2d(F.relu(self.conv1(x)), kernel_size = 2, stride = 2)\n",
    "        # print('First Conv Layer Shape', x.shape)\n",
    "        x = self.dropout(x)\n",
    "        x = F.max_pool2d(F.relu(self.conv2(x)), kernel_size = 2, stride = 2)\n",
    "        # print('Second Conv Layer Shape', x.shape)\n",
    "        x = self.dropout(x)\n",
    "        x = F.max_pool2d(F.relu(self.conv3(x)), kernel_size = 2, stride = 2)\n",
    "        x = self.flatten1(x)\n",
    "        # print('After Flattening', x.shape)\n",
    "        x = self.dropout(x)\n",
    "        x = self.fc1(x)\n",
    "        # print('First Connected Layer', x.shape)\n",
    "        # x = self.dropout(x)\n",
    "\n",
    "        # x = torch.sigmoid(self.fc2(x))\n",
    "        x = self.fc2(F.relu(x)) ## added a relu before the final fully connected layer\n",
    "        x = self.flatten0(x)\n",
    "        # print('Final Output Shape {} \\n'.format(x.shape))\n",
    "        return x"
   ]
  },
  {
   "cell_type": "code",
   "execution_count": 74,
   "metadata": {},
   "outputs": [
    {
     "name": "stdout",
     "output_type": "stream",
     "text": [
      "Model Training Finished - Final loss after 40 epochs: 4.871970814652741\n",
      "Classification Error on the training set with 200 hidden layers: 3.4000000000000004%\n",
      "Classification Error on the testing set with 200 hidden layers: 50.4%\n",
      "\n",
      "Model Training Finished - Final loss after 40 epochs: 3.810832903487608\n",
      "Classification Error on the training set with 200 hidden layers: 3.5999999999999996%\n",
      "Classification Error on the testing set with 200 hidden layers: 50.7%\n",
      "\n",
      "Model Training Finished - Final loss after 40 epochs: 6.467946145683527\n",
      "Classification Error on the training set with 200 hidden layers: 4.3999999999999995%\n",
      "Classification Error on the testing set with 200 hidden layers: 51.1%\n",
      "\n",
      "Model Training Finished - Final loss after 40 epochs: 3.2691314215771854\n",
      "Classification Error on the training set with 200 hidden layers: 2.7%\n",
      "Classification Error on the testing set with 200 hidden layers: 47.9%\n",
      "\n",
      "Model Training Finished - Final loss after 40 epochs: 6.114900866523385\n",
      "Classification Error on the training set with 200 hidden layers: 5.800000000000001%\n",
      "Classification Error on the testing set with 200 hidden layers: 49.3%\n",
      "\n"
     ]
    }
   ],
   "source": [
    "hidden_layers = [50, 200, 500, 1000]\n",
    "binary_criterion = nn.BCEWithLogitsLoss()\n",
    "eta = 0.001\n",
    "mini_batch_size = 20\n",
    "nb_epochs = 40\n",
    "n_runs = 5\n",
    "\n",
    "\n",
    "for i in range(n_runs):   \n",
    "    model = BinaryCNN(hidden_layer_n = 200, dropout_rate = 0.15)\n",
    "    optimizer = torch.optim.Adam(model.parameters(), weight_decay=0.001)\n",
    "    train_model(nb_epochs, eta, binary_criterion, optimizer, model, train_set, train_target.to(torch.float32), mini_batch_size)\n",
    "    \n",
    "    train_output = torch.sigmoid(model(train_set))\n",
    "    # print('test output', model(test_set))\n",
    "    test_output = torch.sigmoid(model(test_set))\n",
    "    \n",
    "    error_train = compute_nb_errors(model, train_output, train_target.to(torch.float32))\n",
    "    error_test = compute_nb_errors(model, test_output, test_target.to(torch.float32))\n",
    "    \n",
    "    print('Classification Error on the training set with {} hidden layers: {}%'.format(200, error_train * 100))\n",
    "    print('Classification Error on the testing set with {} hidden layers: {}%'.format(200, error_test * 100))\n",
    "    print('')"
   ]
  },
  {
   "cell_type": "markdown",
   "metadata": {},
   "source": [
    "Benchmarking with different hyperparameters."
   ]
  },
  {
   "cell_type": "markdown",
   "metadata": {},
   "source": [
    "Attempt #2 - Multi-Layer Perceptron with only linear hidden layers, constructed in order to compare the difference between this and the convolutional network, measuring the overfitting too. This network includes multiple dropout layers with respective rates of $0.4$ and a weight decay parameter on the Adam Optimizer, as measures to combat the above mentioned overfitting."
   ]
  },
  {
   "cell_type": "code",
   "execution_count": 9,
   "metadata": {},
   "outputs": [],
   "source": [
    "class MLP(nn.Module):\n",
    "    def __init__(self, dropout_rate): ## defining the layers\n",
    "        super().__init__()\n",
    "        self.dropout = nn.Dropout(p=dropout_rate)\n",
    "        self.batchnorm1 = nn.BatchNorm1d(512)\n",
    "        self.batchnorm2 = nn.BatchNorm1d(256)\n",
    "        self.flatten_dim_0 = nn.Flatten(0)\n",
    "        self.flatten_dim_1 = nn.Flatten(1)\n",
    "\n",
    "        # Fully Connected Layers        \n",
    "        # self.fc1 = nn.Linear(2 * 14 * 14, 1028) ## (2x14x14) images\n",
    "        # self.fc2 = nn.Linear(1028, 512)\n",
    "        # self.fc3 = nn.Linear(512, 256)\n",
    "        # self.fc4 = nn.Linear(256, 1) ## output layers\n",
    "        \n",
    "        self.fc1 = nn.Linear(2 * 14 * 14, 1028) ## (2x14x14) images\n",
    "        self.fc2 = nn.Linear(1028, 512)\n",
    "        self.fc3 = nn.Linear(512, 256)\n",
    "        self.fc4 = nn.Linear(256, 1) ## output layers\n",
    "\n",
    "        \n",
    "    ## Generally, strides for convolution layers are 1 and for maxpools are 2\n",
    "    def forward(self, x): \n",
    "        x = self.flatten_dim_1(x)\n",
    "        # print('Flattened Input Shape: ', x.shape)\n",
    "        x = F.relu(self.fc1(x))\n",
    "        # print('First FC Layer Shape', x.shape)\n",
    "        x = F.relu(self.dropout(self.fc2(x)))\n",
    "        x = self.batchnorm1(x)\n",
    "        # print('Second FC Layer Shape', x.shape)\n",
    "        x = F.relu(self.dropout(self.fc3(x)))\n",
    "        x = self.batchnorm2(x)\n",
    "        # print('Third FC Layer Shape', x.shape)\n",
    "        x = self.fc4(x)\n",
    "        x = self.flatten_dim_0(x)\n",
    "        # print('Final Output Shape {} \\n'.format(x.shape))\n",
    "        return x"
   ]
  },
  {
   "cell_type": "markdown",
   "metadata": {},
   "source": [
    "For this network, the batch size was increased to 200 as it improved the accuracy overall."
   ]
  },
  {
   "cell_type": "code",
   "execution_count": 10,
   "metadata": {},
   "outputs": [
    {
     "name": "stdout",
     "output_type": "stream",
     "text": [
      "Model Training Finished - Final loss after 50 epochs: 0.08907894045114517\n",
      "Classification Error on the training set: 0.4%\n",
      "Classification Error on the testing set: 48.3%\n",
      "\n",
      "Model Training Finished - Final loss after 50 epochs: 0.09786215890198946\n",
      "Classification Error on the training set: 0.3%\n",
      "Classification Error on the testing set: 49.5%\n",
      "\n",
      "Model Training Finished - Final loss after 50 epochs: 0.06054124142974615\n",
      "Classification Error on the training set: 0.0%\n",
      "Classification Error on the testing set: 47.4%\n",
      "\n",
      "Model Training Finished - Final loss after 50 epochs: 0.05482277553528547\n",
      "Classification Error on the training set: 0.0%\n",
      "Classification Error on the testing set: 48.3%\n",
      "\n",
      "Model Training Finished - Final loss after 50 epochs: 0.3759602904319763\n",
      "Classification Error on the training set: 0.8999999999999999%\n",
      "Classification Error on the testing set: 48.3%\n",
      "\n"
     ]
    }
   ],
   "source": [
    "binary_criterion = nn.BCEWithLogitsLoss()\n",
    "eta = 1e-07\n",
    "mini_batch_size = 200\n",
    "nb_epochs = 50\n",
    "n_runs = 5\n",
    "\n",
    "# For Plotting Purposes\n",
    "all_epochs = []\n",
    "all_training_errors = []\n",
    "all_testing_errors = []\n",
    "\n",
    "for i in range(n_runs):\n",
    "    # all_epochs.append(i)\n",
    "    model = MLP(dropout_rate = 0.4)\n",
    "    optimizer = torch.optim.Adam(model.parameters(), weight_decay=0.1)\n",
    "    train_model(nb_epochs, eta, binary_criterion, optimizer, model, train_set, train_target.to(torch.float32), mini_batch_size)\n",
    "    \n",
    "    train_output = torch.sigmoid(model(train_set))\n",
    "    # print('test output', model(test_set))\n",
    "    test_output = torch.sigmoid(model(test_set))\n",
    "    \n",
    "    error_train = compute_nb_errors(model, train_output, train_target.to(torch.float32))\n",
    "    error_test = compute_nb_errors(model, test_output, test_target.to(torch.float32))\n",
    "    \n",
    "    # all_training_errors.append(error_train)\n",
    "    # all_testing_errors.append(error_test)\n",
    "        \n",
    "    print('Classification Error on the training set: {}%'.format(error_train * 100))\n",
    "    print('Classification Error on the testing set: {}%'.format(error_test * 100))\n",
    "    print('')"
   ]
  },
  {
   "cell_type": "markdown",
   "metadata": {},
   "source": [
    "As we can view from the plot below, the overfitting on the testing set persists no matter the number of epochs."
   ]
  },
  {
   "cell_type": "code",
   "execution_count": 12,
   "metadata": {},
   "outputs": [
    {
     "data": {
      "image/png": "[encoded data removed]",
      "text/plain": [
       "<Figure size 800x600 with 1 Axes>"
      ]
     },
     "metadata": {},
     "output_type": "display_data"
    }
   ],
   "source": [
    "import seaborn as sns\n",
    "sns.set()\n",
    "\n",
    "plt.figure(figsize=(8, 6))\n",
    "plt.title(\"Error rate with regard to number of epochs - Multi Layer Perceptron\")\n",
    "plt.xlabel('Number of Epochs')\n",
    "plt.ylabel('Error Rate')\n",
    "plt.plot(all_epochs, all_training_errors, alpha=0.6, linewidth=4, color='turquoise', label='Train Error')\n",
    "plt.plot(all_epochs, all_testing_errors, alpha=0.6, linewidth=4, color='maroon', label = 'Testing Error')\n",
    "plt.legend(loc='upper right')\n",
    "plt.show()"
   ]
  },
  {
   "cell_type": "code",
   "execution_count": null,
   "metadata": {},
   "outputs": [],
   "source": []
  }
 ],
 "metadata": {
  "kernelspec": {
   "display_name": "Python 3 (ipykernel)",
   "language": "python",
   "name": "python3"
  },
  "language_info": {
   "codemirror_mode": {
    "name": "ipython",
    "version": 3
   },
   "file_extension": ".py",
   "mimetype": "text/x-python",
   "name": "python",
   "nbconvert_exporter": "python",
   "pygments_lexer": "ipython3",
   "version": "3.7.15"
  },
  "vscode": {
   "interpreter": {
    "hash": "6290ab70aa2c9e6859d722745d4fdeafb895ca1190e93c7ac9c8d926153eb965"
   }
  }
 },
 "nbformat": 4,
 "nbformat_minor": 2
}
