{
 "cells": [
  {
   "cell_type": "code",
   "execution_count": null,
   "metadata": {},
   "outputs": [],
   "source": [
    "# DROP OUT RATE 2 AND 3 CODE\n",
    "\n",
    "hidden_layers = 200\n",
    "binary_criterion = nn.BCEWithLogitsLoss()\n",
    "eta = 0.001\n",
    "mini_batch_size = 5\n",
    "nb_epochs = 50\n",
    "dp_rate = [0.2,0.35,0.5,0.65]\n",
    "res_train = np.zeros((len(dp_rate),len(dp_rate)))\n",
    "res_test = np.zeros((len(dp_rate),len(dp_rate)))\n",
    "\n",
    "for i in range(len(dp_rate)):\n",
    "    for j in range(len(dp_rate)):\n",
    "        print(\"(i,j) -> \",\"(\",i,\",\",j,\")\",\"dr_rate2 =\",dp_rate[i],\"dr_rate3 =\",dp_rate[j])\n",
    "        model = BinaryCNN(hidden_layer_n = hidden_layers, dropout_rate1= 0.2,dropout_rate2= dp_rate[i],dropout_rate3= dp_rate[j])\n",
    "        optimizer = torch.optim.Adam(model.parameters(), weight_decay=0.001)\n",
    "        train_model(nb_epochs, eta, binary_criterion, optimizer, model, train_set, train_target.to(torch.float32), mini_batch_size)\n",
    "        model.eval()\n",
    "        errors_train = compute_nb_errors(model, train_set, train_target.to(torch.float32), mini_batch_size)\n",
    "        errors_test = compute_nb_errors(model, test_set, test_target.to(torch.float32), mini_batch_size)\n",
    "        res_train[i,j] = (errors_train / train_set.size(0)) * 100\n",
    "        res_test[i,j] = (errors_test / test_set.size(0))  * 100      \n",
    "        print(\"train -> \", res_train[i,j], \"test -> \", res_test[i,j])\n",
    "        print()"
   ]
  }
 ],
 "metadata": {
  "kernelspec": {
   "display_name": "Python 3 (ipykernel)",
   "language": "python",
   "name": "python3"
  },
  "language_info": {
   "codemirror_mode": {
    "name": "ipython",
    "version": 3
   },
   "file_extension": ".py",
   "mimetype": "text/x-python",
   "name": "python",
   "nbconvert_exporter": "python",
   "pygments_lexer": "ipython3",
   "version": "3.7.15"
  },
  "vscode": {
   "interpreter": {
    "hash": "6290ab70aa2c9e6859d722745d4fdeafb895ca1190e93c7ac9c8d926153eb965"
   }
  }
 },
 "nbformat": 4,
 "nbformat_minor": 2
}
