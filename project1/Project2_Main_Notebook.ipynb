{
 "cells": [
  {
   "cell_type": "code",
   "execution_count": 2,
   "metadata": {},
   "outputs": [
    {
     "name": "stdout",
     "output_type": "stream",
     "text": [
      "libraries imported\n"
     ]
    }
   ],
   "source": [
    "import torch\n",
    "from torch import nn\n",
    "from torch.nn import functional as F\n",
    "import matplotlib.pyplot as plt\n",
    "import dlc_practical_prologue2 as prologue\n",
    "\n",
    "print('libraries imported')"
   ]
  },
  {
   "cell_type": "markdown",
   "metadata": {},
   "source": [
    "To get the data for the first project, we are using one of the functions of *dlc_practical_prologe.py* that randomly generates one for us given a size parameter. It returns a tuple containing the: *training set, targets, classes* and *testing set, targets, classes*. "
   ]
  },
  {
   "cell_type": "code",
   "execution_count": 3,
   "metadata": {},
   "outputs": [],
   "source": [
    "sample_size = 1000\n",
    "sets = prologue.generate_pair_sets(sample_size)\n",
    "\n",
    "train_set = sets[0]\n",
    "train_target = sets[1]\n",
    "train_classes = sets[2]\n",
    "\n",
    "test_set = sets[3]\n",
    "test_target = sets[4]\n",
    "test_classes = sets[5]"
   ]
  },
  {
   "cell_type": "markdown",
   "metadata": {},
   "source": [
    "The inputs are grayscale MNIST images consisting of two channels ($2 \\times 14 \\times 14$) representing two different digits. As visualized below, target vector contains the index of the channels which have the highest digit between the two (channel $0$ or $1$). \n",
    "\n",
    "Therefore, our task is to maximize the prediction of this boolean value."
   ]
  },
  {
   "cell_type": "code",
   "execution_count": 4,
   "metadata": {},
   "outputs": [
    {
     "name": "stdout",
     "output_type": "stream",
     "text": [
      "For the first training data point with two channels, target is 0\n"
     ]
    },
    {
     "data": {
      "image/png": "[encoded data removed]",
      "text/plain": [
       "<Figure size 720x504 with 2 Axes>"
      ]
     },
     "metadata": {
      "needs_background": "light"
     },
     "output_type": "display_data"
    }
   ],
   "source": [
    "print('For the first training data point with two channels, target is {}'.format(train_target[0]))\n",
    "fig1, axes = plt.subplots(1, 2, figsize = (10, 7))\n",
    "ax = axes.ravel()\n",
    "\n",
    "for i in range(len(ax)):\n",
    "    ax[i].set_title('Channel #{} - Class: {}'.format(i, train_classes[0][i]))\n",
    "    ax[i].imshow(train_set[0][i], cmap='copper')\n",
    "    ax[i].axis('off')\n",
    "plt.show()"
   ]
  },
  {
   "cell_type": "markdown",
   "metadata": {},
   "source": [
    "Function to train the model by moving it through the given mini batch size and using Adam as an optimizer."
   ]
  },
  {
   "cell_type": "code",
   "execution_count": 5,
   "metadata": {},
   "outputs": [],
   "source": [
    "def train_model(n_epochs, eta, gamma, loss_criterion, model, train_input, train_target, train_classes, mini_batch_size):\n",
    "    aux_loss_criterion = nn.CrossEntropyLoss()\n",
    "    optimizer = torch.optim.Adam(model.parameters(), weight_decay=0.01, lr = eta)\n",
    "    for _ in range(n_epochs):\n",
    "        acc_loss = 0 ## set error as 0 each iteration\n",
    "        ## Using mini-batches\n",
    "        for b in range(0, train_input.size(0), mini_batch_size): \n",
    "            # output = model(train_input.narrow(0, b, mini_batch_size))\n",
    "            \n",
    "            model.zero_grad() ## setting the gradients to zero before the loss calculation\n",
    "            output, output_aux = model(train_input.narrow(0, b, mini_batch_size))\n",
    "            # print('Loss Shapes: Output: {}, Target: {}'.format(output.shape, train_target.narrow(0, b, mini_batch_size).shape))\n",
    "            loss1 = loss_criterion(output, train_target.narrow(0, b, mini_batch_size).float())\n",
    "            # print(output_aux.shape, train_classes.narrow(0, b, mini_batch_size).shape)\n",
    "            # print(train_classes.narrow(0, b, mini_batch_size))\n",
    "            aux_loss = aux_loss_criterion(output_aux, train_classes.narrow(0, b, mini_batch_size))\n",
    "            loss = loss1 + (gamma * aux_loss)\n",
    "            \n",
    "            # loss = loss1\n",
    "            acc_loss = acc_loss + loss.item()\n",
    "            loss.backward()\n",
    "            optimizer.step()\n",
    "            # optimizer.zero_grad()\n",
    "    # print('Final Output: ', output, output.shape)\n",
    "    # print(torch.argmax(output, dim=1))\n",
    "    print('Model Training Finished - Final loss after {} epochs: {}'.format(n_epochs, acc_loss))"
   ]
  },
  {
   "cell_type": "markdown",
   "metadata": {},
   "source": [
    "Round the final values outputted from the network into binary values and compare them with the target binary matrix in order to get the number of errors.\n",
    "\n",
    "The sigmoid function $\\sigma(x) = \\frac 1 {1+exp(-x)}$ is applied to the output to distribute the output values between $0$ and $1$, after which a rounding process happens to finally compare them with our binary targets. "
   ]
  },
  {
   "cell_type": "code",
   "execution_count": 6,
   "metadata": {},
   "outputs": [],
   "source": [
    "def compute_nb_errors(model, input, target, mini_batch_size):\n",
    "    nb_errors = 0\n",
    "    with torch.no_grad():\n",
    "        for b in range(0, input.size(0), mini_batch_size):\n",
    "            output, _ = model(input.narrow(0, b, mini_batch_size))\n",
    "            output_sigmoid = torch.sigmoid(output)\n",
    "            errors = torch.where(torch.round(output_sigmoid) != target.narrow(0, b, mini_batch_size))\n",
    "\n",
    "            ## Errors return a tuple with the first element being a tensor with indexes\n",
    "            ## Where the targets and predictions dont match\n",
    "            ## Therefore we get the size of this tensor as a number of errors\n",
    "            nb_errors += errors[0].size(0) \n",
    "    return nb_errors"
   ]
  },
  {
   "cell_type": "markdown",
   "metadata": {},
   "source": [
    "##### Defining both models\n",
    "\n",
    "The first model will be a classical Binary Convolutional Network Classifier inspired by LeNet, that takes the number of the hidden layers of the final fully connected layer as a parameter. \n",
    "As seen from the results below, it suffers from overfitting at the moment therefore it should be modified (dropout to be added next).\n",
    "\n",
    "The second model will be a Multi-Layer Perceptron with only linear hidden layers, constructed in order to compare the difference between this and the convolutional network, measuring the overfitting too. \n",
    "\n",
    "They both includes multiple dropout layers with respective rates of $0.4$ and share a weight decay parameter on the Adam Optimizer, as measures to combat overfitting."
   ]
  },
  {
   "cell_type": "code",
   "execution_count": 7,
   "metadata": {},
   "outputs": [],
   "source": [
    "class MLP(nn.Module):\n",
    "    def __init__(self, dropout_rate): ## defining the layers\n",
    "        super().__init__()\n",
    "        self.dropout = nn.Dropout(p=dropout_rate)\n",
    "        self.fc1_bn = nn.BatchNorm1d(1024)\n",
    "        self.fc2_bn = nn.BatchNorm1d(512)\n",
    "        self.fc3_bn = nn.BatchNorm1d(256)\n",
    "        self.flatten_dim_0 = nn.Flatten(0)\n",
    "        self.flatten_dim_1 = nn.Flatten(1)\n",
    "\n",
    "        # Fully Connected Layers        \n",
    "        self.fc1 = nn.Linear(2 * 14 * 14, 1024) ## (2x14x14) images\n",
    "        self.fc2 = nn.Linear(1024, 512)\n",
    "        self.fc3 = nn.Linear(512, 256)\n",
    "        self.fc4 = nn.Linear(256, 1) ## output layers\n",
    "\n",
    "    ## Generally, strides for convolution layers are 1 and for maxpools are 2\n",
    "    ## Uncomment the prints for debuggingd\n",
    "    def forward(self, x): \n",
    "        x = self.flatten_dim_1(x)\n",
    "        x = self.dropout(x)\n",
    "        # print('Flattened Input Shape: ', x.shape)\n",
    "        x = F.relu(self.fc1_bn(self.fc1(x)))\n",
    "        # print('First FC Layer Shape', x.shape)\n",
    "        x = F.relu(self.fc2_bn(self.fc2(x)))\n",
    "        # print('Second FC Layer Shape', x.shape)\n",
    "        x = F.relu(self.dropout(self.fc3_bn(self.fc3(x))))\n",
    "        # print('Third FC Layer Shape', x.shape)\n",
    "        x = self.fc4(x)\n",
    "        x = self.flatten_dim_0(x)\n",
    "        # print('Final Output Shape {} \\n'.format(x.shape))\n",
    "        return x"
   ]
  },
  {
   "cell_type": "markdown",
   "metadata": {},
   "source": [
    "Binary Convolutional Neural Network"
   ]
  },
  {
   "cell_type": "code",
   "execution_count": 8,
   "metadata": {},
   "outputs": [],
   "source": [
    "class BinaryCNN(nn.Module):\n",
    "    def __init__(self, dropout_rate): ## defining the layers\n",
    "        super().__init__()\n",
    "        self.dropoutfc = nn.Dropout(p = dropout_rate)\n",
    "        self.dropoutcnn = nn.Dropout(p = 0.0)\n",
    "        self.pool = nn.MaxPool2d(kernel_size = 2, stride = 2)\n",
    "        self.flatten0 = nn.Flatten(0)\n",
    "        self.flatten1 = nn.Flatten(1)\n",
    "                \n",
    "        ### We need to convert to a sequential after we have a stable model\n",
    "        # self.features = nn.Sequential()\n",
    "        \n",
    "        # Feature Extractors & Data Normalizers \n",
    "        self.conv1 = nn.Conv2d(2, 64, kernel_size = 3, stride = 1)\n",
    "        self.conv1_bn = nn.BatchNorm2d(64)\n",
    "        self.conv2 = nn.Conv2d(64, 128, kernel_size = 3, stride = 1)\n",
    "        self.conv2_bn = nn.BatchNorm2d(128)\n",
    "        self.conv3 = nn.Conv2d(128, 256, kernel_size = 3, stride = 1, padding = 1)\n",
    "        self.conv3_bn = nn.BatchNorm2d(256)\n",
    "        # self.conv4 = nn.Conv2d(96, 128, kernel_size = 3, stride = 1, padding = 1)\n",
    "        # self.batchnorm4 = nn.BatchNorm2d(128)\n",
    "\n",
    "        \n",
    "        # Classifiers & Output Layers\n",
    "        self.fc1 = nn.Linear(256, 1)\n",
    "        self.fc_aux = nn.Linear(256, 20)\n",
    "        # self.fc1_bn = nn.BatchNorm1d(1)\n",
    "        # self.fc2 = nn.Linear(100, 1)\n",
    "        # self.fc2_bn = nn.BatchNorm1d()\n",
    "        \n",
    "    ## Generally, strides for convolution layers are 1 and for maxpools are 2\n",
    "    def forward(self, x): \n",
    "        ## Feature Extractors\n",
    "        # print('First Input Shape: {}'.format(x.shape))\n",
    "        x = F.relu(self.conv1_bn(self.conv1(x)))\n",
    "        x = self.pool(x)\n",
    "        x = self.dropoutcnn(x)    \n",
    "        # print('First Conv Layer Shape', x.shape)\n",
    "        \n",
    "        x = F.relu(self.conv2_bn(self.conv2(x)))\n",
    "        x = self.pool(x)\n",
    "        x = self.dropoutcnn(x)    \n",
    "        # print('Second Conv Layer Shape', x.shape)\n",
    "        \n",
    "        x = F.relu(self.conv3_bn(self.conv3(x)))\n",
    "        x = F.max_pool2d(x, kernel_size= 2, stride = 2, dilation = (1, 1))\n",
    "        x = self.dropoutcnn(x)\n",
    "        # print('Third Conv Layer Shape', x.shape)\n",
    "        \n",
    "        ## Classifiers\n",
    "        x = self.flatten1(x)\n",
    "        # print('After Flattening', x.shape)\n",
    "        x = self.dropoutfc(x)\n",
    "        y = self.fc_aux(x)\n",
    "        x = self.fc1(x)\n",
    "        # x = F.relu(self.fc1(x))\n",
    "        # x = self.batchnormfc1(x)\n",
    "        # print('First Connected Layer: {} \\n'.format(x.shape))\n",
    "        x = self.flatten0(x)\n",
    "        # print(y)\n",
    "        y = F.softmax(self.flatten1(y), dim = 1)\n",
    "        # print('after softmax', y)\n",
    "        # print('Final Output Shape {} \\n'.format(x.shape))\n",
    "        return x, y"
   ]
  },
  {
   "cell_type": "code",
   "execution_count": 9,
   "metadata": {},
   "outputs": [],
   "source": [
    "class BinaryCNNSplit(nn.Module):\n",
    "    def __init__(self, dropout_rate): ## defining the layers\n",
    "        super().__init__()\n",
    "        self.dropoutfc = nn.Dropout(p = dropout_rate)\n",
    "        self.pool = nn.MaxPool2d(kernel_size = 2, stride = 2)\n",
    "        self.flatten0 = nn.Flatten(0)\n",
    "        self.flatten1 = nn.Flatten(1)\n",
    "                \n",
    "        ### We need to convert to a sequential after we have a stable model\n",
    "        # self.features = nn.Sequential()\n",
    "        \n",
    "        # Feature Extractors & Data Normalizers \n",
    "        self.conv1 = nn.Conv2d(2, 64, kernel_size = 3, stride = 1)\n",
    "        self.conv1_bn = nn.BatchNorm2d(64)\n",
    "        self.conv2 = nn.Conv2d(64, 128, kernel_size = 3, stride = 1)\n",
    "        self.conv2_bn = nn.BatchNorm2d(128)\n",
    "        self.conv3 = nn.Conv2d(128, 256, kernel_size = 3, stride = 1, padding = 1)\n",
    "        self.conv3_bn = nn.BatchNorm2d(256)\n",
    "        # self.conv4 = nn.Conv2d(96, 128, kernel_size = 3, stride = 1, padding = 1)\n",
    "        # self.batchnorm4 = nn.BatchNorm2d(128)\n",
    "\n",
    "        \n",
    "        # Classifiers & Output Layers\n",
    "        self.fc1 = nn.Linear(256, 10)\n",
    "        # self.fc1_bn = nn.BatchNorm1d(1)\n",
    "        # self.fc2 = nn.Linear(100, 1)\n",
    "        # self.fc2_bn = nn.BatchNorm1d()\n",
    "        \n",
    "    ## Generally, strides for convolution layers are 1 and for maxpools are 2\n",
    "    def forward(self, x): \n",
    "        ## Feature Extractors\n",
    "        # print('First Input Shape: {}'.format(x.shape))\n",
    "        x = F.relu(self.conv1_bn(self.conv1(x)))\n",
    "        x = self.pool(x)\n",
    "        x = self.dropoutcnn(x)    \n",
    "        # print('First Conv Layer Shape', x.shape)\n",
    "        \n",
    "        x = F.relu(self.conv2_bn(self.conv2(x)))\n",
    "        x = self.pool(x)\n",
    "        x = self.dropoutcnn(x)    \n",
    "        # print('Second Conv Layer Shape', x.shape)\n",
    "        \n",
    "        x = F.relu(self.conv3_bn(self.conv3(x)))\n",
    "        x = F.max_pool2d(x, kernel_size= 2, stride = 2, dilation = (1, 1))\n",
    "        x = self.dropoutcnn(x)\n",
    "        # print('Third Conv Layer Shape', x.shape)\n",
    "        \n",
    "        ## Classifiers\n",
    "        x = self.flatten1(x)\n",
    "        # print('After Flattening', x.shape)\n",
    "        x = self.dropoutfc(x)\n",
    "        x = self.fc1(x)\n",
    "        # x = F.relu(self.fc1(x))\n",
    "        # x = self.batchnormfc1(x)\n",
    "        # print('First Connected Layer: {} \\n'.format(x.shape))\n",
    "        x = self.flatten0(x)\n",
    "        # print(y)\n",
    "        # print('after softmax', y)\n",
    "        # print('Final Output Shape {} \\n'.format(x.shape))\n",
    "        return x"
   ]
  },
  {
   "cell_type": "markdown",
   "metadata": {},
   "source": [
    "Training cell for one model, to be easily switched between MLP and CNN.\n",
    "\n",
    "Hyperparameters after benchmarking (average over 10 runs): $40$ - $50$ batch size seems to be the best, $0.001$ or $0.0001$ weight decay, $10-25$ epochs sufficient "
   ]
  },
  {
   "cell_type": "code",
   "execution_count": 185,
   "metadata": {},
   "outputs": [
    {
     "name": "stdout",
     "output_type": "stream",
     "text": [
      "Model Training Finished - Final loss after 500 epochs: 0.18249853374436498\n",
      "Model Training Finished - Final loss after 500 epochs: 0.17157041328027844\n",
      "Model Training Finished - Final loss after 500 epochs: 0.1726426901295781\n",
      "Classification Error on the training set with 0.0 Auxillary Loss Gamma - Average: 0.00%\n",
      "Classification Error on the testing set with 0.0 Auxillary Loss Gamma - Average: 18.83%, Minimum: 18.099999999999998%\n",
      "\n"
     ]
    }
   ],
   "source": [
    "binary_criterion = nn.BCEWithLogitsLoss()\n",
    "eta = 0.001\n",
    "mini_batch_size = 50\n",
    "nb_epochs = 500\n",
    "n_runs = 3\n",
    "hidden_layers = [4096, 2048, 1024, 512, 256, 128, 64, 32]\n",
    "epochs = [1, 5, 10, 15, 25, 40, 50, 80, 100, 200, 1000]\n",
    "aux_gammas = [0.0]\n",
    "one_hot_classes = F.one_hot(train_classes, num_classes = 10).view(-1, 20).float()\n",
    "\n",
    "for gamma in aux_gammas:\n",
    "    avg_error_train = []\n",
    "    avg_error_test = []\n",
    "    for i in range(n_runs):\n",
    "        model = BinaryCNN(dropout_rate = 0.2)\n",
    "        model.train()\n",
    "        train_model(nb_epochs, eta, gamma, binary_criterion, model, train_set, train_target, one_hot_classes, mini_batch_size)\n",
    "        \n",
    "        model.eval()    \n",
    "        error_train = compute_nb_errors(model, train_set, train_target.to(torch.float32), mini_batch_size)\n",
    "        avg_error_train.append(error_train / train_set.size(0))\n",
    "        error_test = compute_nb_errors(model, test_set, test_target.to(torch.float32), mini_batch_size)\n",
    "        avg_error_test.append(error_test / train_set.size(0))\n",
    "\n",
    "    print('Classification Error on the training set with {} Auxillary Loss Gamma - Average: {:.2f}%'.format(gamma, (sum(avg_error_train) / n_runs) * 100))\n",
    "    print('Classification Error on the testing set with {} Auxillary Loss Gamma - Average: {:.2f}%, Minimum: {}%'.format(gamma, (sum(avg_error_test) / n_runs) * 100, min(avg_error_test) * 100))           \n",
    "    print('')"
   ]
  },
  {
   "cell_type": "markdown",
   "metadata": {},
   "source": [
    "Training cell for both models to calculate their performance on the testing set and to be used for benchmarking & fine-tuning with different hyperparameters."
   ]
  },
  {
   "cell_type": "code",
   "execution_count": 60,
   "metadata": {},
   "outputs": [
    {
     "name": "stdout",
     "output_type": "stream",
     "text": [
      "Average over 1 Epochs\n",
      "CNN - Classification Error on the training set: Average: 24.87%, Minimum: 19.10%\n",
      "CNN - Classification Error on the testing set: Average: 27.98%, Minimum: 21.80%\n",
      "MLP - Classification Error on the training set: Average: 16.48%, Minimum: 15.80%\n",
      "MLP - Classification Error on the testing set: Average: 21.41%, Minimum: 19.70%\n",
      "\n",
      "Average over 5 Epochs\n",
      "CNN - Classification Error on the training set: Average: 13.89%, Minimum: 0.60%\n",
      "CNN - Classification Error on the testing set: Average: 25.79%, Minimum: 17.00%\n",
      "MLP - Classification Error on the training set: Average: 7.36%, Minimum: 6.60%\n",
      "MLP - Classification Error on the testing set: Average: 20.34%, Minimum: 19.20%\n",
      "\n",
      "Average over 10 Epochs\n",
      "CNN - Classification Error on the training set: Average: 4.65%, Minimum: 1.30%\n",
      "CNN - Classification Error on the testing set: Average: 22.31%, Minimum: 18.70%\n",
      "MLP - Classification Error on the training set: Average: 5.54%, Minimum: 4.10%\n",
      "MLP - Classification Error on the testing set: Average: 19.46%, Minimum: 18.20%\n",
      "\n",
      "Average over 15 Epochs\n",
      "CNN - Classification Error on the training set: Average: 1.41%, Minimum: 0.00%\n",
      "CNN - Classification Error on the testing set: Average: 19.53%, Minimum: 14.30%\n",
      "MLP - Classification Error on the training set: Average: 4.69%, Minimum: 3.50%\n",
      "MLP - Classification Error on the testing set: Average: 19.79%, Minimum: 18.60%\n",
      "\n",
      "Average over 20 Epochs\n",
      "CNN - Classification Error on the training set: Average: 0.01%, Minimum: 0.00%\n",
      "CNN - Classification Error on the testing set: Average: 15.83%, Minimum: 15.00%\n",
      "MLP - Classification Error on the training set: Average: 3.61%, Minimum: 2.70%\n",
      "MLP - Classification Error on the testing set: Average: 18.92%, Minimum: 16.50%\n",
      "\n",
      "Average over 25 Epochs\n",
      "CNN - Classification Error on the training set: Average: 0.00%, Minimum: 0.00%\n",
      "CNN - Classification Error on the testing set: Average: 15.92%, Minimum: 14.80%\n",
      "MLP - Classification Error on the training set: Average: 3.37%, Minimum: 2.00%\n",
      "MLP - Classification Error on the testing set: Average: 19.06%, Minimum: 16.90%\n",
      "\n",
      "Average over 30 Epochs\n",
      "CNN - Classification Error on the training set: Average: 1.64%, Minimum: 0.00%\n",
      "CNN - Classification Error on the testing set: Average: 16.89%, Minimum: 15.20%\n",
      "MLP - Classification Error on the training set: Average: 3.05%, Minimum: 2.30%\n",
      "MLP - Classification Error on the testing set: Average: 19.45%, Minimum: 17.60%\n",
      "\n",
      "Average over 35 Epochs\n",
      "CNN - Classification Error on the training set: Average: 6.22%, Minimum: 0.00%\n",
      "CNN - Classification Error on the testing set: Average: 21.16%, Minimum: 15.60%\n",
      "MLP - Classification Error on the training set: Average: 3.78%, Minimum: 2.40%\n",
      "MLP - Classification Error on the testing set: Average: 20.42%, Minimum: 18.30%\n",
      "\n",
      "Average over 40 Epochs\n",
      "CNN - Classification Error on the training set: Average: 0.30%, Minimum: 0.00%\n",
      "CNN - Classification Error on the testing set: Average: 16.87%, Minimum: 14.90%\n",
      "MLP - Classification Error on the training set: Average: 2.39%, Minimum: 1.60%\n",
      "MLP - Classification Error on the testing set: Average: 19.14%, Minimum: 17.10%\n",
      "\n",
      "Average over 45 Epochs\n",
      "CNN - Classification Error on the training set: Average: 0.00%, Minimum: 0.00%\n",
      "CNN - Classification Error on the testing set: Average: 16.18%, Minimum: 15.10%\n",
      "MLP - Classification Error on the training set: Average: 2.69%, Minimum: 1.90%\n",
      "MLP - Classification Error on the testing set: Average: 18.99%, Minimum: 17.40%\n",
      "\n",
      "Average over 50 Epochs\n",
      "CNN - Classification Error on the training set: Average: 0.00%, Minimum: 0.00%\n",
      "CNN - Classification Error on the testing set: Average: 15.19%, Minimum: 14.50%\n",
      "MLP - Classification Error on the training set: Average: 2.85%, Minimum: 1.70%\n",
      "MLP - Classification Error on the testing set: Average: 19.98%, Minimum: 18.40%\n",
      "\n",
      "Average over 60 Epochs\n",
      "CNN - Classification Error on the training set: Average: 3.65%, Minimum: 0.00%\n",
      "CNN - Classification Error on the testing set: Average: 19.43%, Minimum: 14.80%\n",
      "MLP - Classification Error on the training set: Average: 2.59%, Minimum: 1.20%\n",
      "MLP - Classification Error on the testing set: Average: 19.26%, Minimum: 18.30%\n",
      "\n",
      "Average over 70 Epochs\n",
      "CNN - Classification Error on the training set: Average: 0.00%, Minimum: 0.00%\n",
      "CNN - Classification Error on the testing set: Average: 16.43%, Minimum: 15.00%\n",
      "MLP - Classification Error on the training set: Average: 2.07%, Minimum: 1.20%\n",
      "MLP - Classification Error on the testing set: Average: 19.50%, Minimum: 17.50%\n",
      "\n",
      "Average over 80 Epochs\n",
      "CNN - Classification Error on the training set: Average: 3.29%, Minimum: 0.00%\n",
      "CNN - Classification Error on the testing set: Average: 19.48%, Minimum: 13.80%\n",
      "MLP - Classification Error on the training set: Average: 1.41%, Minimum: 0.80%\n",
      "MLP - Classification Error on the testing set: Average: 19.19%, Minimum: 17.90%\n",
      "\n",
      "Average over 90 Epochs\n",
      "CNN - Classification Error on the training set: Average: 0.84%, Minimum: 0.00%\n",
      "CNN - Classification Error on the testing set: Average: 18.13%, Minimum: 16.00%\n",
      "MLP - Classification Error on the training set: Average: 1.13%, Minimum: 0.50%\n",
      "MLP - Classification Error on the testing set: Average: 18.69%, Minimum: 16.80%\n",
      "\n",
      "Average over 100 Epochs\n",
      "CNN - Classification Error on the training set: Average: 0.02%, Minimum: 0.00%\n",
      "CNN - Classification Error on the testing set: Average: 16.74%, Minimum: 15.80%\n",
      "MLP - Classification Error on the training set: Average: 0.73%, Minimum: 0.40%\n",
      "MLP - Classification Error on the testing set: Average: 18.86%, Minimum: 17.70%\n",
      "\n"
     ]
    }
   ],
   "source": [
    "## Shared parameters to both models\n",
    "hidden_layers = [50, 200, 500, 1000]\n",
    "binary_criterion = nn.BCEWithLogitsLoss()\n",
    "mini_batch_size = 50\n",
    "nb_epochs = 25\n",
    "n_runs = 10\n",
    "eta = 0.001\n",
    "\n",
    "# Lists for Plotting & Benchmarks Purposes\n",
    "all_epochs = [1, 5, 10, 15, 20, 25, 30, 35, 40, 45, 50, 60, 70, 80, 90, 100]\n",
    "all_errors_cnn_train = []\n",
    "all_errors_mlp_train = []\n",
    "all_errors_cnn = []\n",
    "all_errors_mlp = []\n",
    "\n",
    "\n",
    "for e in range(len(all_epochs)):\n",
    "    avg_error_train_cnn = []\n",
    "    avg_error_test_cnn = []\n",
    "    avg_error_train_mlp = []\n",
    "    avg_error_test_mlp = []\n",
    "    print('Average over {} Epochs'.format(all_epochs[e]))\n",
    "    for i in range(n_runs):   \n",
    "        conv_model = BinaryCNN(dropout_rate = 0.2)\n",
    "        mlp_model = MLP(dropout_rate = 0.4)\n",
    "        \n",
    "        ## Training CNN\n",
    "        train_model(all_epochs[e], eta, binary_criterion, conv_model, train_set, train_target.to(torch.float32), train_classes, mini_batch_size)\n",
    "        ## Training MLP\n",
    "        train_model(all_epochs[e], eta, binary_criterion, mlp_model, train_set, train_target.to(torch.float32), train_classes, mini_batch_size)\n",
    "            \n",
    "        conv_model.eval()\n",
    "        conv_errors_train = compute_nb_errors(conv_model, train_set, train_target.to(torch.float32), mini_batch_size)\n",
    "        conv_errors_test = compute_nb_errors(conv_model, test_set, test_target.to(torch.float32), mini_batch_size)\n",
    "        avg_error_train_cnn.append(conv_errors_train / train_set.size(0))\n",
    "        avg_error_test_cnn.append(conv_errors_test / test_set.size(0))\n",
    "        \n",
    "        mlp_model.eval()\n",
    "        mlp_errors_train = compute_nb_errors(mlp_model, train_set, train_target.to(torch.float32), mini_batch_size)\n",
    "        mlp_errors_test = compute_nb_errors(mlp_model, test_set, test_target.to(torch.float32), mini_batch_size)\n",
    "        avg_error_train_mlp.append(mlp_errors_train / train_set.size(0))\n",
    "        avg_error_test_mlp.append(mlp_errors_test / test_set.size(0))\n",
    "\n",
    "    all_errors_cnn_train.append(sum(avg_error_train_cnn) / n_runs)\n",
    "    all_errors_cnn.append(sum(avg_error_test_cnn) / n_runs)\n",
    "    \n",
    "    all_errors_mlp_train.append(sum(avg_error_train_mlp) / n_runs)\n",
    "    all_errors_mlp.append(sum(avg_error_test_mlp) / n_runs)\n",
    "            \n",
    "    print('CNN - Classification Error on the training set: Average: {:.2f}%, Minimum: {:.2f}%'.format((all_errors_cnn_train[e] * 100), (min(avg_error_train_cnn) * 100)))\n",
    "    print('CNN - Classification Error on the testing set: Average: {:.2f}%, Minimum: {:.2f}%'.format((all_errors_cnn[e] * 100), (min(avg_error_test_cnn) * 100)))\n",
    "    print('MLP - Classification Error on the training set: Average: {:.2f}%, Minimum: {:.2f}%'.format((all_errors_mlp_train[e] * 100), (min(avg_error_train_mlp) * 100)))\n",
    "    print('MLP - Classification Error on the testing set: Average: {:.2f}%, Minimum: {:.2f}%\\n'.format((all_errors_mlp[e] * 100), (min(avg_error_test_mlp) * 100)))"
   ]
  },
  {
   "cell_type": "markdown",
   "metadata": {},
   "source": [
    "As we can view from the plot below, the overfitting on the testing set persists no matter the number of epochs."
   ]
  },
  {
   "cell_type": "code",
   "execution_count": 68,
   "metadata": {},
   "outputs": [
    {
     "data": {
      "image/png": "[encoded data removed]",
      "text/plain": [
       "<Figure size 1152x432 with 2 Axes>"
      ]
     },
     "metadata": {},
     "output_type": "display_data"
    }
   ],
   "source": [
    "import seaborn as sns\n",
    "sns.set()\n",
    "\n",
    "fig, axs = plt.subplots(1, 2, figsize=(16, 6))\n",
    "fig.suptitle('Error rate on both models - Average over 10runs - Dropout')\n",
    "axs[0].set_title(\"Train Set\")\n",
    "# plt.xlabel('Number of Epochs')\n",
    "# plt.ylabel('Error Rate')\n",
    "axs[0].plot(all_epochs, all_errors_cnn_train, alpha=0.6, linewidth=4, color='turquoise', label='CNN')\n",
    "axs[0].plot(all_epochs, all_errors_mlp_train, alpha=0.6, linewidth=4, color='maroon', label='MLP')\n",
    "axs[0].legend(loc='upper right')\n",
    "\n",
    "axs[1].set\n",
    "axs[1].set_title(\"Test Set\")\n",
    "axs[1].plot(all_epochs, all_errors_cnn, alpha=0.6, linewidth=4, color='turquoise', label='CNN')\n",
    "axs[1].plot(all_epochs, all_errors_mlp, alpha=0.6, linewidth=4, color='maroon', label='MLP')\n",
    "axs[1].legend(loc='upper right')\n",
    "\n",
    "for ax in axs.flat:\n",
    "    ax.set(xlabel='Number of Epochs', ylabel='Error Rate', ylim=(-0.01, 0.5))\n",
    "plt.show()"
   ]
  }
 ],
 "metadata": {
  "kernelspec": {
   "display_name": "Python 3.9.7 64-bit",
   "language": "python",
   "name": "python3"
  },
  "language_info": {
   "codemirror_mode": {
    "name": "ipython",
    "version": 3
   },
   "file_extension": ".py",
   "mimetype": "text/x-python",
   "name": "python",
   "nbconvert_exporter": "python",
   "pygments_lexer": "ipython3",
   "version": "3.9.7"
  },
  "orig_nbformat": 4,
  "vscode": {
   "interpreter": {
    "hash": "6290ab70aa2c9e6859d722745d4fdeafb895ca1190e93c7ac9c8d926153eb965"
   }
  }
 },
 "nbformat": 4,
 "nbformat_minor": 2
}
