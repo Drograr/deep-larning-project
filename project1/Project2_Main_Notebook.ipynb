{
 "cells": [
  {
   "cell_type": "code",
   "execution_count": 488,
   "metadata": {},
   "outputs": [
    {
     "name": "stdout",
     "output_type": "stream",
     "text": [
      "libraries imported\n"
     ]
    }
   ],
   "source": [
    "import torch\n",
    "from torch import nn\n",
    "from torch.nn import functional as F\n",
    "import matplotlib.pyplot as plt\n",
    "import dlc_practical_prologue2 as prologue\n",
    "\n",
    "print('libraries imported')"
   ]
  },
  {
   "cell_type": "markdown",
   "metadata": {},
   "source": [
    "To get the data for the first project, we are using one of the functions of *dlc_practical_prologe.py* that randomly generates one for us given a size parameter. It returns a tuple containing the: *training set, targets, classes* and *testing set, targets, classes*. "
   ]
  },
  {
   "cell_type": "code",
   "execution_count": 489,
   "metadata": {},
   "outputs": [],
   "source": [
    "sample_size = 1000\n",
    "sets = prologue.generate_pair_sets(sample_size)\n",
    "\n",
    "train_set = sets[0]\n",
    "train_target = sets[1]\n",
    "train_classes = sets[2]\n",
    "\n",
    "test_set = sets[3]\n",
    "test_target = sets[4]\n",
    "test_classes = sets[5]"
   ]
  },
  {
   "cell_type": "markdown",
   "metadata": {},
   "source": [
    "The inputs are grayscale MNIST images consisting of two channels ($2 \\times 14 \\times 14$) representing two different digits. As visualized below, target vector contains the index of the channels which have the highest digit between the two (channel $0$ or $1$). \n",
    "\n",
    "Therefore, our task is to maximize the prediction of this boolean value."
   ]
  },
  {
   "cell_type": "code",
   "execution_count": 490,
   "metadata": {},
   "outputs": [
    {
     "name": "stdout",
     "output_type": "stream",
     "text": [
      "For the first training data point with two channels, target is 0\n"
     ]
    },
    {
     "data": {
      "image/png": "[encoded data removed]",
      "text/plain": [
       "<Figure size 720x504 with 2 Axes>"
      ]
     },
     "metadata": {
      "needs_background": "light"
     },
     "output_type": "display_data"
    }
   ],
   "source": [
    "print('For the first training data point with two channels, target is {}'.format(train_target[0]))\n",
    "fig1, axes = plt.subplots(1, 2, figsize = (10, 7))\n",
    "ax = axes.ravel()\n",
    "\n",
    "for i in range(len(ax)):\n",
    "    ax[i].set_title('Channel #{} - Class: {}'.format(i, train_classes[0][i]))\n",
    "    ax[i].imshow(train_set[0][i], cmap='copper')\n",
    "    ax[i].axis('off')\n",
    "plt.show()"
   ]
  },
  {
   "cell_type": "markdown",
   "metadata": {},
   "source": [
    "Function to train the model by moving it through the given mini batch size and using Adam as an optimizer."
   ]
  },
  {
   "cell_type": "code",
   "execution_count": 491,
   "metadata": {},
   "outputs": [],
   "source": [
    "def train_model(n_epochs, eta, loss_criterion, model, train_input, train_target, mini_batch_size):\n",
    "    optimizer = torch.optim.Adam(model.parameters())\n",
    "    for e in range(n_epochs):\n",
    "        acc_loss = 0 ## set error as 0 each iteration\n",
    "        ## Using mini-batches\n",
    "        optimizer.zero_grad()\n",
    "        for b in range(0, train_input.size(0), mini_batch_size): \n",
    "            output = model(train_input.narrow(0, b, mini_batch_size))\n",
    "            # print('Loss Shapes: Output: {}, Target: {}'.format(output.shape, train_target.narrow(0, b, mini_batch_size).shape))\n",
    "            loss = loss_criterion(output, train_target.narrow(0, b, mini_batch_size))\n",
    "            acc_loss = acc_loss + loss.item()\n",
    "\n",
    "            model.zero_grad() ## setting the gradients to zero before the loss calculation\n",
    "            loss.backward()\n",
    "            optimizer.step()\n",
    "            \n",
    "            with torch.no_grad():\n",
    "                for p in model.parameters():\n",
    "                    p -= eta * p.grad\n",
    "                    \n",
    "    # print('Final Output: ', output, output.shape)\n",
    "    # print(torch.argmax(output, dim=1))\n",
    "    print('Model Training Finished - Final loss after {} epochs: {}'.format(n_epochs, acc_loss))"
   ]
  },
  {
   "cell_type": "markdown",
   "metadata": {},
   "source": [
    "Round the final values outputted from the network into binary values and compare them with the target binary matrix in order to get the number of errors."
   ]
  },
  {
   "cell_type": "code",
   "execution_count": 492,
   "metadata": {},
   "outputs": [],
   "source": [
    "def compute_nb_errors(model, input, target):\n",
    "    with torch.no_grad():\n",
    "        rounded_to_binary = torch.round(input)\n",
    "        errors = torch.where(rounded_to_binary != train_target)\n",
    "    return len(errors[0]) / target.shape[0]"
   ]
  },
  {
   "cell_type": "markdown",
   "metadata": {},
   "source": [
    "Attempt #1 - Binary Convolutional Network Classifier that takes the number of the hidden layers of the final fully connected layer as a parameter. \n",
    "\n",
    "As seen from the results below, it suffers from overfitting at the moment therefore it should be modified (dropout to be added next)."
   ]
  },
  {
   "cell_type": "code",
   "execution_count": 498,
   "metadata": {},
   "outputs": [],
   "source": [
    "class BinaryCNN(nn.Module):\n",
    "    def __init__(self, hidden_layer_n): ## defining the layers\n",
    "        super().__init__()\n",
    "        self.dropout1 = nn.Dropout2d()\n",
    "        self.flatten0 = nn.Flatten(0)\n",
    "        self.flatten1 = nn.Flatten(1)\n",
    "        \n",
    "        # Feature Extractors\n",
    "        self.conv1 = nn.Conv2d(2, 64, kernel_size=3, stride=1)\n",
    "        self.conv2 = nn.Conv2d(64, 128, kernel_size=3, stride=1)\n",
    "        # self.conv3 = nn.Conv2d(128, 128, kernel_size=1, stride=1)\n",
    "        \n",
    "        # Classifiers\n",
    "        self.fc1 = nn.Linear(512, hidden_layer_n)\n",
    "        self.fc2 = nn.Linear(hidden_layer_n, 1) ## output layers\n",
    "        \n",
    "    ## Generally, strides for convolution layers are 1 and for maxpools are 2\n",
    "    def forward(self, x): \n",
    "        x = F.max_pool2d(F.relu(self.conv1(x)), kernel_size = 2, stride = 2)\n",
    "        # print('First Conv Layer Shape', x.shape)\n",
    "        # x = self.dropout1(x)\n",
    "        x = F.max_pool2d(F.relu(self.conv2(x)), kernel_size = 2, stride = 2)\n",
    "        # print('Second Conv Layer Shape', x.shape)\n",
    "        # x = self.dropout1(x)\n",
    "        # x = F.max_pool2d(F.relu(self.conv3(x)), kernel_size = 2, stride = 2)\n",
    "        x = self.flatten1(x)\n",
    "        # print('After Flattening', x.shape)\n",
    "        x = self.fc1(x)\n",
    "        # print('First Connected Layer', x.shape)\n",
    "        # x = self.dropout1(x)\n",
    "\n",
    "        # x = torch.sigmoid(self.fc2(x))\n",
    "        x = self.fc2(x)\n",
    "        x = self.flatten0(x)\n",
    "        # print('Final Output Shape {} \\n'.format(x.shape))\n",
    "        return x"
   ]
  },
  {
   "cell_type": "markdown",
   "metadata": {},
   "source": [
    "Benchmarking with different hyperparameters."
   ]
  },
  {
   "cell_type": "code",
   "execution_count": 503,
   "metadata": {},
   "outputs": [
    {
     "name": "stdout",
     "output_type": "stream",
     "text": [
      "Model Training Finished - Final loss after 25 epochs: 0.03755403819377534\n",
      "Classification Error on the training set with 10 hidden layers: 0.0%\n",
      "Classification Error on the testing set with 10 hidden layers: 48.3%\n",
      "\n",
      "Model Training Finished - Final loss after 25 epochs: 0.02045655023539439\n",
      "Classification Error on the training set with 50 hidden layers: 0.0%\n",
      "Classification Error on the testing set with 50 hidden layers: 50.7%\n",
      "\n",
      "Model Training Finished - Final loss after 25 epochs: 5.405695426044986\n",
      "Classification Error on the training set with 200 hidden layers: 3.3000000000000003%\n",
      "Classification Error on the testing set with 200 hidden layers: 49.6%\n",
      "\n",
      "Model Training Finished - Final loss after 25 epochs: 2.987766152888071\n",
      "Classification Error on the training set with 500 hidden layers: 2.1999999999999997%\n",
      "Classification Error on the testing set with 500 hidden layers: 48.9%\n",
      "\n",
      "Model Training Finished - Final loss after 25 epochs: 11.493990674614906\n",
      "Classification Error on the training set with 1000 hidden layers: 9.4%\n",
      "Classification Error on the testing set with 1000 hidden layers: 49.6%\n",
      "\n"
     ]
    }
   ],
   "source": [
    "hidden_layers = [10, 50, 200, 500, 1000]\n",
    "model = BinaryCNN(hidden_layer_n=256)\n",
    "binary_criterion = nn.BCEWithLogitsLoss()\n",
    "eta = 1e-5\n",
    "mini_batch_size = 20\n",
    "nb_epochs = 15\n",
    "\n",
    "\n",
    "for layer_n in hidden_layers:   \n",
    "    model = BinaryCNN(hidden_layer_n = layer_n)\n",
    "    train_model(25, eta, binary_criterion, model, train_set, train_target.to(torch.float32), mini_batch_size)\n",
    "    \n",
    "    train_output = torch.sigmoid(model(train_set))\n",
    "    test_output = torch.sigmoid(model(test_set))\n",
    "    \n",
    "    error_train = compute_nb_errors(model, train_output, train_target)\n",
    "    error_test = compute_nb_errors(model, test_output, test_target)\n",
    "    \n",
    "    print('Classification Error on the training set with {} hidden layers: {}%'.format(layer_n, error_train * 100))\n",
    "    print('Classification Error on the testing set with {} hidden layers: {}%'.format(layer_n, error_test * 100))\n",
    "    print('')"
   ]
  }
 ],
 "metadata": {
  "kernelspec": {
   "display_name": "Python 3.9.7 64-bit",
   "language": "python",
   "name": "python3"
  },
  "language_info": {
   "codemirror_mode": {
    "name": "ipython",
    "version": 3
   },
   "file_extension": ".py",
   "mimetype": "text/x-python",
   "name": "python",
   "nbconvert_exporter": "python",
   "pygments_lexer": "ipython3",
   "version": "3.9.7"
  },
  "orig_nbformat": 4,
  "vscode": {
   "interpreter": {
    "hash": "6290ab70aa2c9e6859d722745d4fdeafb895ca1190e93c7ac9c8d926153eb965"
   }
  }
 },
 "nbformat": 4,
 "nbformat_minor": 2
}
