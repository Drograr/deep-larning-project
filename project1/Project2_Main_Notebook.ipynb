{
 "cells": [
  {
   "cell_type": "code",
   "execution_count": 1,
   "metadata": {},
   "outputs": [
    {
     "name": "stdout",
     "output_type": "stream",
     "text": [
      "libraries imported\n"
     ]
    }
   ],
   "source": [
    "import torch\n",
    "from torch import nn\n",
    "from torch.nn import functional as F\n",
    "import matplotlib.pyplot as plt\n",
    "import dlc_practical_prologue2 as prologue\n",
    "\n",
    "print('libraries imported')"
   ]
  },
  {
   "cell_type": "markdown",
   "metadata": {},
   "source": [
    "To get the data for the first project, we are using one of the functions of *dlc_practical_prologe.py* that randomly generates one for us given a size parameter. It returns a tuple containing the: *training set, targets, classes* and *testing set, targets, classes*. "
   ]
  },
  {
   "cell_type": "code",
   "execution_count": 2,
   "metadata": {},
   "outputs": [],
   "source": [
    "sample_size = 1000\n",
    "sets = prologue.generate_pair_sets(sample_size)\n",
    "\n",
    "train_set = sets[0]\n",
    "train_target = sets[1]\n",
    "train_classes = sets[2]\n",
    "\n",
    "test_set = sets[3]\n",
    "test_target = sets[4]\n",
    "test_classes = sets[5]"
   ]
  },
  {
   "cell_type": "markdown",
   "metadata": {},
   "source": [
    "The inputs are grayscale MNIST images consisting of two channels ($2 \\times 14 \\times 14$) representing two different digits. As visualized below, target vector contains the index of the channels which have the highest digit between the two (channel $0$ or $1$). \n",
    "\n",
    "Therefore, our task is to maximize the prediction of this boolean value."
   ]
  },
  {
   "cell_type": "code",
   "execution_count": 3,
   "metadata": {},
   "outputs": [
    {
     "name": "stdout",
     "output_type": "stream",
     "text": [
      "For the first training data point with two channels, target is 0\n"
     ]
    },
    {
     "data": {
      "image/png": "[encoded data removed]",
      "text/plain": [
       "<Figure size 720x504 with 2 Axes>"
      ]
     },
     "metadata": {
      "needs_background": "light"
     },
     "output_type": "display_data"
    }
   ],
   "source": [
    "print('For the first training data point with two channels, target is {}'.format(train_target[0]))\n",
    "fig1, axes = plt.subplots(1, 2, figsize = (10, 7))\n",
    "ax = axes.ravel()\n",
    "\n",
    "for i in range(len(ax)):\n",
    "    ax[i].set_title('Channel #{} - Class: {}'.format(i, train_classes[0][i]))\n",
    "    ax[i].imshow(train_set[0][i], cmap='copper')\n",
    "    ax[i].axis('off')\n",
    "plt.show()"
   ]
  },
  {
   "cell_type": "markdown",
   "metadata": {},
   "source": [
    "Function to train the model by moving it through the given mini batch size and using Adam as an optimizer."
   ]
  },
  {
   "cell_type": "code",
   "execution_count": 4,
   "metadata": {},
   "outputs": [],
   "source": [
    "def train_model(n_epochs, eta, loss_criterion, model, train_input, train_target, mini_batch_size):\n",
    "    optimizer = torch.optim.Adam(model.parameters(), weight_decay=0.01, lr = eta)\n",
    "    for _ in range(n_epochs):\n",
    "        acc_loss = 0 ## set error as 0 each iteration\n",
    "        ## Using mini-batches\n",
    "        for b in range(0, train_input.size(0), mini_batch_size): \n",
    "            output = model(train_input.narrow(0, b, mini_batch_size))\n",
    "            # print('Loss Shapes: Output: {}, Target: {}'.format(output.shape, train_target.narrow(0, b, mini_batch_size).shape))\n",
    "            loss = loss_criterion(output, train_target.narrow(0, b, mini_batch_size).float())\n",
    "            acc_loss = acc_loss + loss.item()\n",
    "\n",
    "            model.zero_grad() ## setting the gradients to zero before the loss calculation\n",
    "            loss.backward()\n",
    "            optimizer.step()                    \n",
    "    # print('Final Output: ', output, output.shape)\n",
    "    # print(torch.argmax(output, dim=1))\n",
    "    print('Model Training Finished - Final loss after {} epochs: {}'.format(n_epochs, acc_loss))"
   ]
  },
  {
   "cell_type": "markdown",
   "metadata": {},
   "source": [
    "Round the final values outputted from the network into binary values and compare them with the target binary matrix in order to get the number of errors.\n",
    "\n",
    "The sigmoid function $\\sigma(x) = \\frac 1 {1+exp(-x)}$ is applied to the output to distribute the output values between $0$ and $1$, after which a rounding process happens to finally compare them with our binary targets. "
   ]
  },
  {
   "cell_type": "code",
   "execution_count": 5,
   "metadata": {},
   "outputs": [],
   "source": [
    "def compute_nb_errors(model, input, target, mini_batch_size):\n",
    "    nb_errors = 0\n",
    "    with torch.no_grad():\n",
    "        for b in range(0, input.size(0), mini_batch_size):\n",
    "            output = torch.sigmoid(model(input.narrow(0, b, mini_batch_size)))\n",
    "            errors = torch.where(torch.round(output) != target.narrow(0, b, mini_batch_size))\n",
    "\n",
    "            ## Errors return a tuple with the first element being a tensor with indexes\n",
    "            ## Where the targets and predictions dont match\n",
    "            ## Therefore we get the size of this tensor as a number of errors\n",
    "            nb_errors += errors[0].size(0) \n",
    "    return nb_errors"
   ]
  },
  {
   "cell_type": "markdown",
   "metadata": {},
   "source": [
    "##### Defining both models\n",
    "\n",
    "The first model will be a classical Binary Convolutional Network Classifier inspired by LeNet, that takes the number of the hidden layers of the final fully connected layer as a parameter. \n",
    "As seen from the results below, it suffers from overfitting at the moment therefore it should be modified (dropout to be added next).\n",
    "\n",
    "The second model will be a Multi-Layer Perceptron with only linear hidden layers, constructed in order to compare the difference between this and the convolutional network, measuring the overfitting too. \n",
    "\n",
    "They both includes multiple dropout layers with respective rates of $0.4$ and share a weight decay parameter on the Adam Optimizer, as measures to combat overfitting."
   ]
  },
  {
   "cell_type": "code",
   "execution_count": 6,
   "metadata": {},
   "outputs": [],
   "source": [
    "class MLP(nn.Module):\n",
    "    def __init__(self, dropout_rate): ## defining the layers\n",
    "        super().__init__()\n",
    "        self.dropout = nn.Dropout(p=dropout_rate)\n",
    "        self.batchnorm1 = nn.BatchNorm1d(512)\n",
    "        self.batchnorm2 = nn.BatchNorm1d(256)\n",
    "        self.flatten_dim_0 = nn.Flatten(0)\n",
    "        self.flatten_dim_1 = nn.Flatten(1)\n",
    "        \n",
    "        self.layers = nn.Sequential(\n",
    "            nn.Linear(2 * 14 * 14, 1024),\n",
    "            nn.ReLU(inplace = True),\n",
    "            nn.Linear(1024, 512),\n",
    "            nn.Dropout1d(0.0),\n",
    "            nn.ReLU(inplace = True),\n",
    "            nn.BatchNorm1d(512),\n",
    "            nn.Linear(512, 256),\n",
    "            nn.Dropout1d(0.0),\n",
    "            nn.ReLU(inplace = True),\n",
    "            nn.BatchNorm1d(256),\n",
    "            nn.Linear(256, 1) ## output layer\n",
    "        )\n",
    "\n",
    "        # Fully Connected Layers        \n",
    "        self.fc1 = nn.Linear(2 * 14 * 14, 1024) ## (2x14x14) images\n",
    "        self.fc2 = nn.Linear(1024, 512)\n",
    "        self.fc3 = nn.Linear(512, 256)\n",
    "        self.fc4 = nn.Linear(256, 1) ## output layers\n",
    "\n",
    "        \n",
    "    ## Generally, strides for convolution layers are 1 and for maxpools are 2\n",
    "    ## Uncomment the prints for debugging\n",
    "    def forward(self, x): \n",
    "        x = self.flatten_dim_1(x)\n",
    "        # print('Flattened Input Shape: ', x.shape)\n",
    "        x = F.relu(self.fc1(x))\n",
    "        # print('First FC Layer Shape', x.shape)\n",
    "        x = F.relu(self.dropout(self.fc2(x)))\n",
    "        x = self.batchnorm1(x)\n",
    "        # print('Second FC Layer Shape', x.shape)\n",
    "        x = F.relu(self.dropout(self.fc3(x)))\n",
    "        x = self.batchnorm2(x)\n",
    "        # print('Third FC Layer Shape', x.shape)\n",
    "        x = self.fc4(x)\n",
    "        x = self.flatten_dim_0(x)\n",
    "        # print('Final Output Shape {} \\n'.format(x.shape))\n",
    "        return x"
   ]
  },
  {
   "cell_type": "markdown",
   "metadata": {},
   "source": [
    "Binary Convolutional Neural Network"
   ]
  },
  {
   "cell_type": "code",
   "execution_count": 120,
   "metadata": {},
   "outputs": [],
   "source": [
    "class BinaryCNN(nn.Module):\n",
    "    def __init__(self, hidden_layer_n, dropout_rate): ## defining the layers\n",
    "        super().__init__()\n",
    "        self.dropoutfc = nn.Dropout(p = 0.0)\n",
    "        self.dropoutcnn = nn.Dropout(p = 0.15)\n",
    "        self.pool = nn.MaxPool2d(kernel_size = 2, stride = 2)\n",
    "        self.flatten0 = nn.Flatten(0)\n",
    "        self.flatten1 = nn.Flatten(1)\n",
    "                \n",
    "        ### We need to convert to a sequential after we have a stable model\n",
    "        # self.features = nn.Sequential()\n",
    "        \n",
    "        # Feature Extractors & Data Normalizers \n",
    "        self.conv1 = nn.Conv2d(2, 64, kernel_size = 3, stride = 1)\n",
    "        self.conv1_bn = nn.BatchNorm2d(64)\n",
    "        self.conv2 = nn.Conv2d(64, 128, kernel_size = 3, stride = 1)\n",
    "        self.conv2_bn = nn.BatchNorm2d(128)\n",
    "        self.conv3 = nn.Conv2d(128, 256, kernel_size = 3, stride = 1, padding = 1)\n",
    "        self.conv3_bn = nn.BatchNorm2d(256)\n",
    "        # self.conv4 = nn.Conv2d(96, 128, kernel_size = 3, stride = 1, padding = 1)\n",
    "        # self.batchnorm4 = nn.BatchNorm2d(128)\n",
    "\n",
    "        \n",
    "        # Classifiers & Output Layers\n",
    "        self.fc1 = nn.Linear(256, 1)\n",
    "        # self.fc1_bn = nn.BatchNorm1d(1)\n",
    "        # self.fc2 = nn.Linear(100, 1)\n",
    "        # self.fc2_bn = nn.BatchNorm1d()\n",
    "        \n",
    "    ## Generally, strides for convolution layers are 1 and for maxpools are 2\n",
    "    def forward(self, x): \n",
    "        ## Feature Extractors\n",
    "        # print('First Input Shape: {}'.format(x.shape))\n",
    "        x = F.relu(self.conv1_bn(self.conv1(x)))\n",
    "        x = self.pool(x)\n",
    "        # x = self.dropoutcnn(x)    \n",
    "        # print('First Conv Layer Shape', x.shape)\n",
    "        \n",
    "        x = F.relu(self.conv2_bn(self.conv2(x)))\n",
    "        x = self.pool(x)\n",
    "        # # x = self.dropoutcnn(x)    \n",
    "        # print('Second Conv Layer Shape', x.shape)\n",
    "        \n",
    "        x = F.relu(self.conv3_bn(self.conv3(x)))\n",
    "        x = F.max_pool2d(x, kernel_size= 2, stride = 2, dilation = (1, 1))\n",
    "        # x = self.dropoutcnn(x)\n",
    "        # print('Third Conv Layer Shape', x.shape)\n",
    "        \n",
    "        ## Classifiers\n",
    "        x = self.flatten1(x)\n",
    "        # print('After Flattening', x.shape)\n",
    "        x = self.dropoutfc(x)\n",
    "        x = self.fc1(x)\n",
    "        # x = F.relu(self.fc1(x))\n",
    "        # x = self.batchnormfc1(x)\n",
    "        # print('First Connected Layer: {} \\n'.format(x.shape))\n",
    "        x = self.flatten0(x)\n",
    "        # print('Final Output Shape {} \\n'.format(x.shape))\n",
    "        return x"
   ]
  },
  {
   "cell_type": "markdown",
   "metadata": {},
   "source": [
    "Training cell for one model, to be easily switched between MLP and CNN.\n",
    "\n",
    "Hyperparameters after benchmarking (average over 10 runs): $40$ - $50$ batch size seems to be the best, $0.001$ or $0.0001$ weight decay, $10-25$ epochs sufficient "
   ]
  },
  {
   "cell_type": "code",
   "execution_count": 119,
   "metadata": {},
   "outputs": [
    {
     "name": "stdout",
     "output_type": "stream",
     "text": [
      "Model Training Finished - Final loss after 25 epochs: 0.00970138018601574\n",
      "Model Training Finished - Final loss after 25 epochs: 0.011178980261320248\n",
      "Model Training Finished - Final loss after 25 epochs: 0.008160532073816285\n",
      "Model Training Finished - Final loss after 25 epochs: 0.0118183558806777\n",
      "Model Training Finished - Final loss after 25 epochs: 0.008706318272743374\n",
      "Model Training Finished - Final loss after 25 epochs: 0.010117800033185631\n",
      "Model Training Finished - Final loss after 25 epochs: 0.009105706034461036\n",
      "Model Training Finished - Final loss after 25 epochs: 0.010853958927327767\n",
      "Model Training Finished - Final loss after 25 epochs: 0.010881164169404656\n",
      "Model Training Finished - Final loss after 25 epochs: 0.009125535463681445\n",
      "Classification Error on the training set with 0.3 fc dropout - Average: 0.0%\n",
      "Classification Error on the testing set with 0.3 fc dropout - Average: 15.939999999999998%, Minimum: 14.899999999999999%\n",
      "\n"
     ]
    }
   ],
   "source": [
    "binary_criterion = nn.BCEWithLogitsLoss()\n",
    "eta = 0.001\n",
    "mini_batch_size = 50\n",
    "nb_epochs = 25\n",
    "n_runs = 10\n",
    "hidden_layers = [4096, 2048, 1024, 512, 256, 128, 64, 32]\n",
    "epochs = [1, 5, 10, 15, 25, 40, 50, 80, 100, 200, 1000]\n",
    "batches = [40, 50, 100, 500]\n",
    "dropouts = [0.3]\n",
    "\n",
    "for d in dropouts:\n",
    "    avg_error_train = []\n",
    "    avg_error_test = []\n",
    "    for i in range(n_runs):\n",
    "        model = BinaryCNN(hidden_layer_n = 128, dropout_rate = d)\n",
    "        train_model(nb_epochs, eta, binary_criterion, model, train_set, train_target, mini_batch_size)\n",
    "            \n",
    "        error_train = compute_nb_errors(model, train_set, train_target.to(torch.float32), mini_batch_size)\n",
    "        avg_error_train.append(error_train / train_set.size(0))\n",
    "        error_test = compute_nb_errors(model, test_set, test_target.to(torch.float32), mini_batch_size)\n",
    "        avg_error_test.append(error_test / train_set.size(0))\n",
    "\n",
    "    print('Classification Error on the training set with {} fc dropout - Average: {}%'.format(d, (sum(avg_error_train) / n_runs) * 100))\n",
    "    print('Classification Error on the testing set with {} fc dropout - Average: {}%, Minimum: {}%'.format(d, (sum(avg_error_test) / n_runs) * 100, min(avg_error_test) * 100))           \n",
    "    print('')"
   ]
  },
  {
   "cell_type": "markdown",
   "metadata": {},
   "source": [
    "Training cell for both models to calculate their performance on the testing set and to be used for benchmarking & fine-tuning with different hyperparameters."
   ]
  },
  {
   "cell_type": "code",
   "execution_count": 13,
   "metadata": {},
   "outputs": [
    {
     "name": "stdout",
     "output_type": "stream",
     "text": [
      "Run #5\n",
      "Training started for CNN model...\n",
      "Model Training Finished - Final loss after 1 epochs: 153.3482640147209\n",
      "Training started for MLP model...\n",
      "Model Training Finished - Final loss after 1 epochs: 129.50766280293465\n",
      "CNN - Classification Error on the training set with 200 hidden layers: 22.0%\n",
      "CNN - Classification Error on the testing set with 200 hidden layers: 24.5%\n",
      "MLP - Classification Error on the training set with 25.5%\n",
      "MLP - Classification Error on the testing set: 26.8%\n",
      "\n",
      "Run #5\n",
      "Training started for CNN model...\n",
      "Model Training Finished - Final loss after 5 epochs: 58.946589425671846\n",
      "Training started for MLP model...\n",
      "Model Training Finished - Final loss after 5 epochs: 115.31560364365578\n",
      "CNN - Classification Error on the training set with 200 hidden layers: 13.0%\n",
      "CNN - Classification Error on the testing set with 200 hidden layers: 23.0%\n",
      "MLP - Classification Error on the training set with 54.6%\n",
      "MLP - Classification Error on the testing set: 52.400000000000006%\n",
      "\n",
      "Run #5\n",
      "Training started for CNN model...\n",
      "Model Training Finished - Final loss after 10 epochs: 25.33180967887165\n",
      "Training started for MLP model...\n",
      "Model Training Finished - Final loss after 10 epochs: 116.95196616649628\n",
      "CNN - Classification Error on the training set with 200 hidden layers: 2.6%\n",
      "CNN - Classification Error on the testing set with 200 hidden layers: 19.0%\n",
      "MLP - Classification Error on the training set with 20.0%\n",
      "MLP - Classification Error on the testing set: 22.6%\n",
      "\n",
      "Run #5\n",
      "Training started for CNN model...\n",
      "Model Training Finished - Final loss after 15 epochs: 16.184520735086153\n",
      "Training started for MLP model...\n",
      "Model Training Finished - Final loss after 15 epochs: 110.80787977576256\n",
      "CNN - Classification Error on the training set with 200 hidden layers: 3.0%\n",
      "CNN - Classification Error on the testing set with 200 hidden layers: 23.0%\n",
      "MLP - Classification Error on the training set with 18.5%\n",
      "MLP - Classification Error on the testing set: 23.400000000000002%\n",
      "\n",
      "Run #5\n",
      "Training started for CNN model...\n",
      "Model Training Finished - Final loss after 20 epochs: 15.272641352801202\n",
      "Training started for MLP model...\n",
      "Model Training Finished - Final loss after 20 epochs: 112.78160905838013\n",
      "CNN - Classification Error on the training set with 200 hidden layers: 2.4%\n",
      "CNN - Classification Error on the testing set with 200 hidden layers: 21.099999999999998%\n",
      "MLP - Classification Error on the training set with 25.6%\n",
      "MLP - Classification Error on the testing set: 28.599999999999998%\n",
      "\n",
      "Run #5\n",
      "Training started for CNN model...\n",
      "Model Training Finished - Final loss after 25 epochs: 9.509378368969891\n",
      "Training started for MLP model...\n",
      "Model Training Finished - Final loss after 25 epochs: 108.45521792769432\n",
      "CNN - Classification Error on the training set with 200 hidden layers: 3.5000000000000004%\n",
      "CNN - Classification Error on the testing set with 200 hidden layers: 22.0%\n",
      "MLP - Classification Error on the training set with 18.2%\n",
      "MLP - Classification Error on the testing set: 23.799999999999997%\n",
      "\n",
      "Run #5\n",
      "Training started for CNN model...\n",
      "Model Training Finished - Final loss after 30 epochs: 15.341489392138001\n",
      "Training started for MLP model...\n",
      "Model Training Finished - Final loss after 30 epochs: 116.17103269696236\n",
      "CNN - Classification Error on the training set with 200 hidden layers: 1.3%\n",
      "CNN - Classification Error on the testing set with 200 hidden layers: 21.5%\n",
      "MLP - Classification Error on the training set with 26.200000000000003%\n",
      "MLP - Classification Error on the testing set: 27.400000000000002%\n",
      "\n",
      "Run #5\n",
      "Training started for CNN model...\n",
      "Model Training Finished - Final loss after 35 epochs: 11.536968178478883\n",
      "Training started for MLP model...\n",
      "Model Training Finished - Final loss after 35 epochs: 110.14512407779694\n",
      "CNN - Classification Error on the training set with 200 hidden layers: 7.8%\n",
      "CNN - Classification Error on the testing set with 200 hidden layers: 25.4%\n",
      "MLP - Classification Error on the training set with 25.900000000000002%\n",
      "MLP - Classification Error on the testing set: 27.700000000000003%\n",
      "\n",
      "Run #5\n",
      "Training started for CNN model...\n",
      "Model Training Finished - Final loss after 50 epochs: 0.017628548723369164\n",
      "Training started for MLP model...\n",
      "Model Training Finished - Final loss after 50 epochs: 106.42379242181778\n",
      "CNN - Classification Error on the training set with 200 hidden layers: 0.0%\n",
      "CNN - Classification Error on the testing set with 200 hidden layers: 19.2%\n",
      "MLP - Classification Error on the training set with 24.6%\n",
      "MLP - Classification Error on the testing set: 27.1%\n",
      "\n",
      "Run #5\n",
      "Training started for CNN model...\n",
      "Model Training Finished - Final loss after 100 epochs: 18.838290609271578\n",
      "Training started for MLP model...\n",
      "Model Training Finished - Final loss after 100 epochs: 107.85334005951881\n",
      "CNN - Classification Error on the training set with 200 hidden layers: 17.599999999999998%\n",
      "CNN - Classification Error on the testing set with 200 hidden layers: 28.999999999999996%\n",
      "MLP - Classification Error on the training set with 16.7%\n",
      "MLP - Classification Error on the testing set: 25.5%\n",
      "\n"
     ]
    }
   ],
   "source": [
    "## Shared parameters to both models\n",
    "hidden_layers = [50, 200, 500, 1000]\n",
    "binary_criterion = nn.BCEWithLogitsLoss()\n",
    "mini_batch_size = 50\n",
    "nb_epochs = 25\n",
    "n_runs = 5\n",
    "## Convolutional Parameters\n",
    "conv_eta = 0.001\n",
    "## MLP Parameters\n",
    "mlp_eta = 1e-07\n",
    "\n",
    "\n",
    "# Lists for Plotting & Benchmarks Purposes\n",
    "all_epochs = [1, 5, 10, 15, 20, 25, 30, 35, 50, 100]\n",
    "all_errors_cnn_train = []\n",
    "all_errors_mlp_train = []\n",
    "all_errors_cnn = []\n",
    "all_errors_mlp = []\n",
    "\n",
    "\n",
    "for epoch in all_epochs:   \n",
    "    conv_model = BinaryCNN(hidden_layer_n = 200, dropout_rate = 0.0)\n",
    "    mlp_model = MLP(dropout_rate = 0.0)\n",
    "    \n",
    "    cnn_optimizer = torch.optim.Adam(conv_model.parameters(), weight_decay=0.001)\n",
    "    mlp_optimizer = torch.optim.Adam(mlp_model.parameters(), weight_decay=0.1)\n",
    "\n",
    "    print('Run #{}'.format(i))\n",
    "    print('Training started for CNN model...')\n",
    "    ## Training CNN\n",
    "    train_model(epoch, conv_eta, binary_criterion, cnn_optimizer, conv_model, train_set, train_target.to(torch.float32), mini_batch_size)\n",
    "    print('Training started for MLP model...')\n",
    "    ## Training MLP\n",
    "    train_model(epoch, mlp_eta, binary_criterion, mlp_optimizer, mlp_model, train_set, train_target.to(torch.float32), mini_batch_size)\n",
    "        \n",
    "    conv_model.eval()\n",
    "    mlp_model.eval()\n",
    "    conv_errors_train = compute_nb_errors(conv_model, train_set, train_target.to(torch.float32), mini_batch_size)\n",
    "    conv_errors_test = compute_nb_errors(conv_model, test_set, test_target.to(torch.float32), mini_batch_size)\n",
    "    \n",
    "    mlp_errors_train = compute_nb_errors(mlp_model, train_set, train_target.to(torch.float32), mini_batch_size)\n",
    "    mlp_errors_test = compute_nb_errors(mlp_model, test_set, test_target.to(torch.float32), mini_batch_size)\n",
    "\n",
    "    all_errors_cnn.append(conv_errors_test / test_set.size(0))\n",
    "    all_errors_mlp.append(mlp_errors_test / test_set.size(0))\n",
    "    \n",
    "    print('CNN - Classification Error on the training set with {} hidden layers: {}%'.format(200, (conv_errors_train / train_set.size(0)) * 100))\n",
    "    print('CNN - Classification Error on the testing set with {} hidden layers: {}%'.format(200, (conv_errors_test / test_set.size(0))  * 100))\n",
    "    print('MLP - Classification Error on the training set with {}%'.format((mlp_errors_train / train_set.size(0)) * 100))\n",
    "    print('MLP - Classification Error on the testing set: {}%\\n'.format((mlp_errors_test / test_set.size(0))  * 100))"
   ]
  },
  {
   "cell_type": "markdown",
   "metadata": {},
   "source": [
    "As we can view from the plot below, the overfitting on the testing set persists no matter the number of epochs."
   ]
  },
  {
   "cell_type": "code",
   "execution_count": 14,
   "metadata": {},
   "outputs": [
    {
     "data": {
      "image/png": "[encoded data removed]",
      "text/plain": [
       "<Figure size 576x432 with 1 Axes>"
      ]
     },
     "metadata": {},
     "output_type": "display_data"
    }
   ],
   "source": [
    "import seaborn as sns\n",
    "sns.set()\n",
    "\n",
    "plt.figure(figsize=(8, 6))\n",
    "plt.title(\"Error rate (test set) on both models - No Dropout\")\n",
    "plt.xlabel('Number of Epochs')\n",
    "plt.ylabel('Error Rate')\n",
    "plt.plot(all_epochs, all_errors_cnn, alpha=0.6, linewidth=4, color='turquoise', label='CNN')\n",
    "plt.plot(all_epochs, all_errors_mlp, alpha=0.6, linewidth=4, color='maroon', label = 'MLP')\n",
    "plt.legend(loc='upper right')\n",
    "plt.show()"
   ]
  }
 ],
 "metadata": {
  "kernelspec": {
   "display_name": "Python 3.9.7 64-bit",
   "language": "python",
   "name": "python3"
  },
  "language_info": {
   "codemirror_mode": {
    "name": "ipython",
    "version": 3
   },
   "file_extension": ".py",
   "mimetype": "text/x-python",
   "name": "python",
   "nbconvert_exporter": "python",
   "pygments_lexer": "ipython3",
   "version": "3.9.7"
  },
  "orig_nbformat": 4,
  "vscode": {
   "interpreter": {
    "hash": "6290ab70aa2c9e6859d722745d4fdeafb895ca1190e93c7ac9c8d926153eb965"
   }
  }
 },
 "nbformat": 4,
 "nbformat_minor": 2
}
