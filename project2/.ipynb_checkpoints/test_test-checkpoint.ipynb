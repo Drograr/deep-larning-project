{
 "cells": [
  {
   "cell_type": "code",
   "execution_count": 1,
   "id": "f90d7c29",
   "metadata": {},
   "outputs": [],
   "source": [
    "import torch\n",
    "import math\n",
    "from Project2_tools import *\n",
    "import matplotlib.pyplot as plt\n",
    "torch.set_grad_enabled(False)\n",
    "import Project2_tools"
   ]
  },
  {
   "cell_type": "code",
   "execution_count": 2,
   "id": "4b534f7d",
   "metadata": {},
   "outputs": [],
   "source": [
    "def compute_nb_errors(input,target):\n",
    "    nb_errors = 0\n",
    "    for b in range(0, input.size(0)):\n",
    "        output = model.train_forward(input[b])\n",
    "        if ((output < 0 and target[b] == 1) or (output >= 0 and target[b] == -1)):\n",
    "            nb_errors += 1 # error in binary comparison\n",
    "    return nb_errors"
   ]
  },
  {
   "cell_type": "code",
   "execution_count": 3,
   "id": "379889ee",
   "metadata": {},
   "outputs": [],
   "source": [
    "train_input, train_target = generate_set(1000)\n",
    "train_target[train_target==0] = -1\n",
    "test_input, test_target = generate_set(1000)\n",
    "test_target[test_target==0] = -1"
   ]
  },
  {
   "cell_type": "code",
   "execution_count": 4,
   "id": "bdbad992",
   "metadata": {},
   "outputs": [
    {
     "name": "stdout",
     "output_type": "stream",
     "text": [
      "tensor([[0.3009, 0.6227],\n",
      "        [0.1209, 0.4845],\n",
      "        [0.8984, 0.9694],\n",
      "        ...,\n",
      "        [0.0876, 0.9255],\n",
      "        [0.1053, 0.8881],\n",
      "        [0.9694, 0.8429]])\n"
     ]
    }
   ],
   "source": [
    "print(train_input)"
   ]
  },
  {
   "cell_type": "code",
   "execution_count": 4,
   "id": "22c49872",
   "metadata": {},
   "outputs": [],
   "source": [
    "#print(train_target)"
   ]
  },
  {
   "cell_type": "code",
   "execution_count": 5,
   "id": "a900952f",
   "metadata": {},
   "outputs": [],
   "source": [
    "# Normalization\n",
    "mean, std = train_input.mean(), train_input.std()\n",
    "train_input = train_input-mean\n",
    "train_input = train_input/std\n",
    "test_input = test_input-mean\n",
    "test_input = test_input/std\n"
   ]
  },
  {
   "cell_type": "code",
   "execution_count": 6,
   "id": "76ecbd41",
   "metadata": {},
   "outputs": [],
   "source": [
    "# Train nn\n",
    "eta_reduction = 0 # 1:enable reduction of eta after some epochs\n",
    "mseLoss = Project2_tools.MSELossModule()"
   ]
  },
  {
   "cell_type": "code",
   "execution_count": 7,
   "id": "9d86b649",
   "metadata": {},
   "outputs": [],
   "source": [
    "weight_bias = 0.5\n",
    "epoch = 50\n",
    "mini_batch_size = 1\n",
    "iter = 10\n",
    "percent_train_error_array = []\n",
    "percent_test_error_array = []\n",
    "plot_loss = []\n",
    "show_plot = 0 # to plot a graph of losses"
   ]
  },
  {
   "cell_type": "code",
   "execution_count": null,
   "id": "10817cca",
   "metadata": {},
   "outputs": [],
   "source": []
  },
  {
   "cell_type": "code",
   "execution_count": 8,
   "id": "17888c7f",
   "metadata": {},
   "outputs": [
    {
     "name": "stdout",
     "output_type": "stream",
     "text": [
      "Iteration 1\n"
     ]
    },
    {
     "name": "stderr",
     "output_type": "stream",
     "text": [
      "C:\\Users\\JAN\\Desktop\\master 2\\deep learning\\deeplearning_project\\Deep_learning_project\\project2\\Project2_tools.py:88: UserWarning: The use of `x.T` on tensors of dimension other than 2 to reverse their shape is deprecated and it will throw an error in a future release. Consider `x.mT` to transpose batches of matricesor `x.permute(*torch.arange(x.ndim - 1, -1, -1))` to reverse the dimensions of a tensor. (Triggered internally at  C:\\cb\\pytorch_1000000000000\\work\\aten\\src\\ATen\\native\\TensorShape.cpp:2985.)\n",
      "  return self.W_x.mv(input.T)+self.b\n"
     ]
    },
    {
     "name": "stdout",
     "output_type": "stream",
     "text": [
      "Train Error : 51.800000000000004%\n",
      "Test Error : 48.5%\n",
      "Iteration 2\n"
     ]
    },
    {
     "ename": "KeyboardInterrupt",
     "evalue": "",
     "output_type": "error",
     "traceback": [
      "\u001b[1;31m---------------------------------------------------------------------------\u001b[0m",
      "\u001b[1;31mKeyboardInterrupt\u001b[0m                         Traceback (most recent call last)",
      "\u001b[1;32m~\\AppData\\Local\\Temp/ipykernel_16636/2299945753.py\u001b[0m in \u001b[0;36m<module>\u001b[1;34m\u001b[0m\n\u001b[0;32m     23\u001b[0m                 \u001b[0mmodel\u001b[0m\u001b[1;33m.\u001b[0m\u001b[0mbackward\u001b[0m\u001b[1;33m(\u001b[0m\u001b[0mmseLoss_var\u001b[0m\u001b[1;33m)\u001b[0m \u001b[1;31m# model backward (compute gradients)\u001b[0m\u001b[1;33m\u001b[0m\u001b[1;33m\u001b[0m\u001b[0m\n\u001b[0;32m     24\u001b[0m             \u001b[1;31m#print(loss_mean)\u001b[0m\u001b[1;33m\u001b[0m\u001b[1;33m\u001b[0m\u001b[1;33m\u001b[0m\u001b[0m\n\u001b[1;32m---> 25\u001b[1;33m             \u001b[0mmodel\u001b[0m\u001b[1;33m.\u001b[0m\u001b[0mStock_Grad_Descent\u001b[0m\u001b[1;33m(\u001b[0m\u001b[0meta\u001b[0m\u001b[1;33m)\u001b[0m \u001b[1;31m# Update weights\u001b[0m\u001b[1;33m\u001b[0m\u001b[1;33m\u001b[0m\u001b[0m\n\u001b[0m\u001b[0;32m     26\u001b[0m             \u001b[0mmodel\u001b[0m\u001b[1;33m.\u001b[0m\u001b[0mzero_grad\u001b[0m\u001b[1;33m(\u001b[0m\u001b[1;33m)\u001b[0m \u001b[1;31m# Reset gradients\u001b[0m\u001b[1;33m\u001b[0m\u001b[1;33m\u001b[0m\u001b[0m\n\u001b[0;32m     27\u001b[0m         \u001b[0mloss_mean\u001b[0m \u001b[1;33m=\u001b[0m \u001b[0mtorch\u001b[0m\u001b[1;33m.\u001b[0m\u001b[0mmean\u001b[0m\u001b[1;33m(\u001b[0m\u001b[0mtorch\u001b[0m\u001b[1;33m.\u001b[0m\u001b[0mtensor\u001b[0m\u001b[1;33m(\u001b[0m\u001b[0mloss\u001b[0m\u001b[1;33m)\u001b[0m\u001b[1;33m)\u001b[0m \u001b[1;31m#Get loss for this batch\u001b[0m\u001b[1;33m\u001b[0m\u001b[1;33m\u001b[0m\u001b[0m\n",
      "\u001b[1;32m~\\Desktop\\master 2\\deep learning\\deeplearning_project\\Deep_learning_project\\project2\\Project2_tools.py\u001b[0m in \u001b[0;36mStock_Grad_Descent\u001b[1;34m(self, LR)\u001b[0m\n\u001b[0;32m    129\u001b[0m     \u001b[1;32mdef\u001b[0m \u001b[0mStock_Grad_Descent\u001b[0m\u001b[1;33m(\u001b[0m\u001b[0mself\u001b[0m\u001b[1;33m,\u001b[0m\u001b[0mLR\u001b[0m\u001b[1;33m)\u001b[0m\u001b[1;33m:\u001b[0m\u001b[1;31m#lr = LEARNING RATE\u001b[0m\u001b[1;33m\u001b[0m\u001b[1;33m\u001b[0m\u001b[0m\n\u001b[0;32m    130\u001b[0m         \u001b[1;32mfor\u001b[0m \u001b[0mi\u001b[0m \u001b[1;32min\u001b[0m \u001b[0mself\u001b[0m\u001b[1;33m.\u001b[0m\u001b[0marg\u001b[0m\u001b[1;33m:\u001b[0m\u001b[1;33m\u001b[0m\u001b[1;33m\u001b[0m\u001b[0m\n\u001b[1;32m--> 131\u001b[1;33m             \u001b[0mi\u001b[0m\u001b[1;33m.\u001b[0m\u001b[0mStock_Grad_Descent\u001b[0m\u001b[1;33m(\u001b[0m\u001b[0mLR\u001b[0m\u001b[1;33m)\u001b[0m\u001b[1;33m\u001b[0m\u001b[1;33m\u001b[0m\u001b[0m\n\u001b[0m\u001b[0;32m    132\u001b[0m \u001b[1;33m\u001b[0m\u001b[0m\n\u001b[0;32m    133\u001b[0m     \u001b[1;32mdef\u001b[0m \u001b[0mparam\u001b[0m\u001b[1;33m(\u001b[0m\u001b[0mself\u001b[0m\u001b[1;33m)\u001b[0m\u001b[1;33m:\u001b[0m\u001b[1;33m\u001b[0m\u001b[1;33m\u001b[0m\u001b[0m\n",
      "\u001b[1;32m~\\Desktop\\master 2\\deep learning\\deeplearning_project\\Deep_learning_project\\project2\\Project2_tools.py\u001b[0m in \u001b[0;36mStock_Grad_Descent\u001b[1;34m(self, LR)\u001b[0m\n\u001b[0;32m     98\u001b[0m \u001b[1;33m\u001b[0m\u001b[0m\n\u001b[0;32m     99\u001b[0m     \u001b[1;32mdef\u001b[0m \u001b[0mStock_Grad_Descent\u001b[0m\u001b[1;33m(\u001b[0m\u001b[0mself\u001b[0m\u001b[1;33m,\u001b[0m \u001b[0mLR\u001b[0m\u001b[1;33m)\u001b[0m\u001b[1;33m:\u001b[0m  \u001b[1;31m# LR = learning rate\u001b[0m\u001b[1;33m\u001b[0m\u001b[1;33m\u001b[0m\u001b[0m\n\u001b[1;32m--> 100\u001b[1;33m         \u001b[0mself\u001b[0m\u001b[1;33m.\u001b[0m\u001b[0mW_x\u001b[0m \u001b[1;33m=\u001b[0m \u001b[0mself\u001b[0m\u001b[1;33m.\u001b[0m\u001b[0mW_x\u001b[0m \u001b[1;33m-\u001b[0m \u001b[0mLR\u001b[0m \u001b[1;33m*\u001b[0m \u001b[0mself\u001b[0m\u001b[1;33m.\u001b[0m\u001b[0mW_x_grad\u001b[0m\u001b[1;33m\u001b[0m\u001b[1;33m\u001b[0m\u001b[0m\n\u001b[0m\u001b[0;32m    101\u001b[0m         \u001b[0mself\u001b[0m\u001b[1;33m.\u001b[0m\u001b[0mb\u001b[0m \u001b[1;33m=\u001b[0m \u001b[0mself\u001b[0m\u001b[1;33m.\u001b[0m\u001b[0mb\u001b[0m \u001b[1;33m-\u001b[0m \u001b[0mLR\u001b[0m \u001b[1;33m*\u001b[0m \u001b[0mself\u001b[0m\u001b[1;33m.\u001b[0m\u001b[0mb_grad\u001b[0m\u001b[1;33m\u001b[0m\u001b[1;33m\u001b[0m\u001b[0m\n\u001b[0;32m    102\u001b[0m     \u001b[1;32mdef\u001b[0m \u001b[0mparam\u001b[0m\u001b[1;33m(\u001b[0m\u001b[0mself\u001b[0m\u001b[1;33m)\u001b[0m\u001b[1;33m:\u001b[0m\u001b[1;33m\u001b[0m\u001b[1;33m\u001b[0m\u001b[0m\n",
      "\u001b[1;31mKeyboardInterrupt\u001b[0m: "
     ]
    }
   ],
   "source": [
    "for i in range(iter):\n",
    "    print(\"Iteration\", i+1)\n",
    "    eta = 0.005 # learning rate\n",
    "\n",
    "    # Units :\n",
    "    # 2 -> 25 -> 25 -> 25 -> 1\n",
    "    # Linear(2,25) -> Relu() -> Linear(25,25) -> Linear(25,25) -> Linear(25,1) -> Tanh()\n",
    "\n",
    "    model = Project2_tools.Sequential(Project2_tools.Linear(2,25,weight_bias), Project2_tools.ReLU(),\\\n",
    "    Project2_tools.Linear(25,25,weight_bias), Project2_tools.ReLU(),\\\n",
    "    Project2_tools.Linear(25,25,weight_bias), Project2_tools.ReLU(),\\\n",
    "    Project2_tools.Linear(25,1,weight_bias), Project2_tools.Tanh())\n",
    "\n",
    "    for e in range(epoch):\n",
    "        if eta_reduction and e%10 == 0:\n",
    "            eta = eta*85/100\n",
    "        loss = []\n",
    "        for b in range(int(train_input.size(0)/mini_batch_size)):\n",
    "            for i in range(0, mini_batch_size):\n",
    "                output = model.train_forward(train_input[i+b*mini_batch_size]) # train forward\n",
    "                loss.append(mseLoss.forward(output, train_target[i+b*mini_batch_size])) # Compute loss\n",
    "                mseLoss_var = mseLoss.backward() # dL/doutput\n",
    "                model.backward(mseLoss_var) # model backward (compute gradients)\n",
    "            #print(loss_mean)\n",
    "            model.Stock_Grad_Descent(eta) # Update weights\n",
    "            model.zero_grad() # Reset gradients\n",
    "        loss_mean = torch.mean(torch.tensor(loss)) #Get loss for this batch\n",
    "        plot_loss.append(loss_mean)\n",
    "\n",
    "    nb_errors_train = compute_nb_errors(train_input,train_target)\n",
    "    nb_errors_test = compute_nb_errors(test_input,test_target)\n",
    "    percent_train_errors = nb_errors_train/train_input.size(0)*100\n",
    "    percent_test_errors = nb_errors_test/test_input.size(0)*100\n",
    "    print(\"Train Error : {}%\".format(percent_train_errors))\n",
    "    print(\"Test Error : {}%\".format(percent_test_errors))\n",
    "    percent_train_error_array.append(percent_train_errors)\n",
    "    percent_test_error_array.append(percent_test_errors)\n",
    "\n",
    "percent_train_error_array = torch.tensor(percent_train_error_array)\n",
    "percent_test_error_array = torch.tensor(percent_test_error_array)\n"
   ]
  },
  {
   "cell_type": "code",
   "execution_count": null,
   "id": "41532c6d",
   "metadata": {},
   "outputs": [],
   "source": []
  }
 ],
 "metadata": {
  "kernelspec": {
   "display_name": "Python 3 (ipykernel)",
   "language": "python",
   "name": "python3"
  },
  "language_info": {
   "codemirror_mode": {
    "name": "ipython",
    "version": 3
   },
   "file_extension": ".py",
   "mimetype": "text/x-python",
   "name": "python",
   "nbconvert_exporter": "python",
   "pygments_lexer": "ipython3",
   "version": "3.8.5"
  }
 },
 "nbformat": 4,
 "nbformat_minor": 5
}
