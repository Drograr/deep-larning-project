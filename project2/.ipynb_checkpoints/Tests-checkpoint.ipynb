{
 "cells": [
  {
   "cell_type": "code",
   "execution_count": 1,
   "id": "f90d7c29",
   "metadata": {},
   "outputs": [],
   "source": [
    "import torch\n",
    "import math\n",
    "from Project2_tools import *\n",
    "import matplotlib.pyplot as plt\n",
    "torch.set_grad_enabled(False)\n",
    "import Project2_tools"
   ]
  },
  {
   "cell_type": "code",
   "execution_count": 2,
   "id": "4b534f7d",
   "metadata": {},
   "outputs": [],
   "source": [
    "def compute_error(input,target):\n",
    "    nb_errors = 0\n",
    "    for b in range(0, input.size(0)):\n",
    "        output = model.train_forward(input[b])\n",
    "        if ((output < 0 and target[b] == 1) or (output >= 0 and target[b] == -1)):\n",
    "            nb_errors += 1 # error in binary comparison\n",
    "    return nb_errors"
   ]
  },
  {
   "cell_type": "code",
   "execution_count": 3,
   "id": "379889ee",
   "metadata": {},
   "outputs": [],
   "source": [
    "train_input, train_target = generate_set(1000)\n",
    "train_target[train_target==0] = -1\n",
    "test_input, test_target = generate_set(1000)\n",
    "test_target[test_target==0] = -1"
   ]
  },
  {
   "cell_type": "code",
   "execution_count": 4,
   "id": "bdbad992",
   "metadata": {},
   "outputs": [
    {
     "name": "stdout",
     "output_type": "stream",
     "text": [
      "tensor([[0.1543, 0.6101],\n",
      "        [0.4344, 0.9802],\n",
      "        [0.5386, 0.5256],\n",
      "        ...,\n",
      "        [0.9589, 0.8468],\n",
      "        [0.9268, 0.6766],\n",
      "        [0.5689, 0.5652]])\n"
     ]
    }
   ],
   "source": [
    "print(train_input)"
   ]
  },
  {
   "cell_type": "code",
   "execution_count": 4,
   "id": "22c49872",
   "metadata": {},
   "outputs": [],
   "source": [
    "#print(train_target)"
   ]
  },
  {
   "cell_type": "code",
   "execution_count": 5,
   "id": "76ecbd41",
   "metadata": {},
   "outputs": [],
   "source": [
    "\n",
    "lr_reduction = 0\n",
    "mseLoss = Project2_tools.MSELossModule()"
   ]
  },
  {
   "cell_type": "code",
   "execution_count": 6,
   "id": "9d86b649",
   "metadata": {},
   "outputs": [],
   "source": [
    "weight_bias = 0.5\n",
    "epoch = 50\n",
    "mini_batch_size = 1\n",
    "iter = 10\n",
    "\n",
    "\n"
   ]
  },
  {
   "cell_type": "code",
   "execution_count": null,
   "id": "10817cca",
   "metadata": {},
   "outputs": [],
   "source": []
  },
  {
   "cell_type": "code",
   "execution_count": 7,
   "id": "17888c7f",
   "metadata": {},
   "outputs": [
    {
     "name": "stderr",
     "output_type": "stream",
     "text": [
      "C:\\Users\\JAN\\Desktop\\master 2\\deep learning\\deeplearning_project\\Deep_learning_project\\project2\\Project2_tools.py:88: UserWarning: The use of `x.T` on tensors of dimension other than 2 to reverse their shape is deprecated and it will throw an error in a future release. Consider `x.mT` to transpose batches of matricesor `x.permute(*torch.arange(x.ndim - 1, -1, -1))` to reverse the dimensions of a tensor. (Triggered internally at  C:\\cb\\pytorch_1000000000000\\work\\aten\\src\\ATen\\native\\TensorShape.cpp:2985.)\n",
      "  return self.W_x.mv(input.T)+self.b\n"
     ]
    },
    {
     "name": "stdout",
     "output_type": "stream",
     "text": [
      "Train Error : 48.699999999999996%\n",
      "Test Error : 50.3%\n"
     ]
    }
   ],
   "source": [
    "\n",
    "lr = 0.005 # learning rate\n",
    "\n",
    "   \n",
    "\n",
    "model = Project2_tools.Sequential(Project2_tools.Linear(2,25,weight_bias), Project2_tools.ReLU(),\\\n",
    "Project2_tools.Linear(25,25,weight_bias), Project2_tools.ReLU(),\\\n",
    "Project2_tools.Linear(25,25,weight_bias), Project2_tools.ReLU(),\\\n",
    "Project2_tools.Linear(25,1,weight_bias), Project2_tools.Tanh())\n",
    "\n",
    "for e in range(epoch):\n",
    "    if lr_reduction and e%10 == 0:\n",
    "        lr = lr*85/100\n",
    "    loss = []\n",
    "    for b in range(int(train_input.size(0)/mini_batch_size)):\n",
    "        for i in range(0, mini_batch_size):\n",
    "            output = model.train_forward(train_input[i+b*mini_batch_size]) \n",
    "            loss.append(mseLoss.forward(output, train_target[i+b*mini_batch_size])) \n",
    "            mseLoss_var = mseLoss.backward() \n",
    "            model.backward(mseLoss_var) \n",
    "            \n",
    "        model.Stock_Grad_Descent(lr) \n",
    "        model.zero_grad() \n",
    "    loss_mean = torch.mean(torch.tensor(loss)) #Get loss for this batch\n",
    "    plot_loss.append(loss_mean)\n",
    "\n",
    "nb_errors_train = compute_error(train_input,train_target)\n",
    "nb_errors_test = compute_error(test_input,test_target)\n",
    "percent_train_errors = nb_errors_train/train_input.size(0)*100\n",
    "percent_test_errors = nb_errors_test/test_input.size(0)*100\n",
    "print(\"Train Error : {}%\".format(percent_train_errors))\n",
    "print(\"Test Error : {}%\".format(percent_test_errors))\n",
    "\n"
   ]
  },
  {
   "cell_type": "code",
   "execution_count": null,
   "id": "41532c6d",
   "metadata": {},
   "outputs": [],
   "source": []
  }
 ],
 "metadata": {
  "kernelspec": {
   "display_name": "Python 3 (ipykernel)",
   "language": "python",
   "name": "python3"
  },
  "language_info": {
   "codemirror_mode": {
    "name": "ipython",
    "version": 3
   },
   "file_extension": ".py",
   "mimetype": "text/x-python",
   "name": "python",
   "nbconvert_exporter": "python",
   "pygments_lexer": "ipython3",
   "version": "3.8.5"
  }
 },
 "nbformat": 4,
 "nbformat_minor": 5
}
