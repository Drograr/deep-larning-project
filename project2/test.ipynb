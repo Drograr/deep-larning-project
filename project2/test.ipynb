{
 "cells": [
  {
   "cell_type": "code",
   "execution_count": 1,
   "id": "f90d7c29",
   "metadata": {},
   "outputs": [],
   "source": [
    "import torch\n",
    "import math\n",
    "from Project2_tools import *\n",
    "import matplotlib.pyplot as plt\n",
    "torch.set_grad_enabled(False)\n",
    "import Project2_tools"
   ]
  },
  {
   "cell_type": "code",
   "execution_count": 2,
   "id": "379889ee",
   "metadata": {},
   "outputs": [],
   "source": [
    "train, train_target = generate_set(1000)\n",
    "test, test_target = generate_set(1000)"
   ]
  },
  {
   "cell_type": "code",
   "execution_count": 3,
   "id": "bdbad992",
   "metadata": {},
   "outputs": [
    {
     "name": "stdout",
     "output_type": "stream",
     "text": [
      "tensor([[0.1912, 0.5629],\n",
      "        [0.7919, 0.8296],\n",
      "        [0.1536, 0.5086],\n",
      "        ...,\n",
      "        [0.3385, 0.9000],\n",
      "        [0.8402, 0.9854],\n",
      "        [0.8601, 0.5913]])\n"
     ]
    }
   ],
   "source": [
    "print(train)"
   ]
  },
  {
   "cell_type": "code",
   "execution_count": 4,
   "id": "22c49872",
   "metadata": {},
   "outputs": [],
   "source": [
    "#print(train_target)"
   ]
  },
  {
   "cell_type": "code",
   "execution_count": 5,
   "id": "47c73f84",
   "metadata": {},
   "outputs": [],
   "source": [
    "#better results with normalisation\n",
    "mean = train.mean()\n",
    "std = train.std()\n",
    "train = (train-mean)/std\n",
    "test = (test-mean)/std\n",
    "\n"
   ]
  },
  {
   "cell_type": "code",
   "execution_count": 6,
   "id": "9d86b649",
   "metadata": {},
   "outputs": [],
   "source": [
    "lr_reduction = 0\n",
    "mseLoss = Project2_tools.MSE()\n",
    "weight_bias = 0.5\n",
    "epoch = 50\n",
    "batch_size = 1\n",
    "rounds = 10\n",
    "\n"
   ]
  },
  {
   "cell_type": "code",
   "execution_count": 7,
   "id": "8a8efcfd",
   "metadata": {},
   "outputs": [],
   "source": [
    "def compute_error(result,target):\n",
    "    nb_errors = 0\n",
    "    for i in range(0, result.size(0)):\n",
    "        output = model.forward(result[i])\n",
    "        if ((output < 0 and target[i] == 1) or (output >= 0 and target[i] == -1)):\n",
    "            nb_errors += 1 \n",
    "    return nb_errors"
   ]
  },
  {
   "cell_type": "code",
   "execution_count": 8,
   "id": "17888c7f",
   "metadata": {},
   "outputs": [
    {
     "name": "stdout",
     "output_type": "stream",
     "text": [
      "round: 0\n"
     ]
    },
    {
     "name": "stderr",
     "output_type": "stream",
     "text": [
      "C:\\Users\\JAN\\Desktop\\master 2\\deep learning\\deeplearning_project\\Deep_learning_project\\project2\\Project2_tools.py:90: UserWarning: The use of `x.T` on tensors of dimension other than 2 to reverse their shape is deprecated and it will throw an error in a future release. Consider `x.mT` to transpose batches of matricesor `x.permute(*torch.arange(x.ndim - 1, -1, -1))` to reverse the dimensions of a tensor. (Triggered internally at  C:\\cb\\pytorch_1000000000000\\work\\aten\\src\\ATen\\native\\TensorShape.cpp:2985.)\n",
      "  return self.W_x.mv(input.T)+self.b\n"
     ]
    },
    {
     "name": "stdout",
     "output_type": "stream",
     "text": [
      "Train Error :  1.6 %\n",
      "Test Error :  2.1999999999999997 %\n",
      "\n",
      "round: 1\n",
      "Train Error :  2.4 %\n",
      "Test Error :  1.7999999999999998 %\n",
      "\n",
      "round: 2\n",
      "Train Error :  2.9000000000000004 %\n",
      "Test Error :  3.4000000000000004 %\n",
      "\n",
      "round: 3\n",
      "Train Error :  2.8000000000000003 %\n",
      "Test Error :  2.6 %\n",
      "\n",
      "round: 4\n",
      "Train Error :  2.1 %\n",
      "Test Error :  2.1 %\n",
      "\n",
      "round: 5\n",
      "Train Error :  2.7 %\n",
      "Test Error :  2.8000000000000003 %\n",
      "\n",
      "round: 6\n",
      "Train Error :  2.0 %\n",
      "Test Error :  1.9 %\n",
      "\n",
      "round: 7\n",
      "Train Error :  1.5 %\n",
      "Test Error :  1.7000000000000002 %\n",
      "\n",
      "round: 8\n",
      "Train Error :  3.5999999999999996 %\n",
      "Test Error :  3.6999999999999997 %\n",
      "\n",
      "round: 9\n",
      "Train Error :  2.5 %\n",
      "Test Error :  2.9000000000000004 %\n",
      "\n"
     ]
    }
   ],
   "source": [
    "\n",
    "lr = 0.005 # learning rate\n",
    "train_results = []\n",
    "test_results = []\n",
    "for i in range(rounds):   \n",
    "    print(\"round:\",i)\n",
    "    model = Project2_tools.Sequential(Project2_tools.Linear(2,25,weight_bias), Project2_tools.ReLU(),Project2_tools.Linear(25,25,weight_bias), Project2_tools.ReLU(),Project2_tools.Linear(25,25,weight_bias), Project2_tools.ReLU(),Project2_tools.Linear(25,1,weight_bias), Project2_tools.Tanh())\n",
    "\n",
    "    for j in range(epoch):\n",
    "        if lr_reduction and j%10 == 0:\n",
    "            lr = lr*0.85\n",
    "        loss = []\n",
    "        for k in range(int(train.size(0)/batch_size)):\n",
    "            for l in range(0, batch_size):\n",
    "                output = model.forward(train[l+k*batch_size]) \n",
    "                loss.append(mseLoss.forward(output, train_target[l+k*batch_size])) \n",
    "                mseLoss_var = mseLoss.backward() \n",
    "                model.backward(mseLoss_var) \n",
    "\n",
    "            model.Stock_Grad_Descent(lr) \n",
    "            model.zero_grad() \n",
    "        loss_mean = torch.mean(torch.tensor(loss)) \n",
    "\n",
    "\n",
    "    errors_train = compute_error(train,train_target)\n",
    "    errors_test = compute_error(test,test_target)\n",
    "    \n",
    "    \n",
    "    print(\"Train Error : \",errors_train/train.size(0)*100,\"%\")\n",
    "    print(\"Test Error : \",errors_test/test.size(0)*100,\"%\")\n",
    "    print(\"\")\n",
    "    train_results.append(errors_train/train.size(0)*100)\n",
    "    test_results.append(errors_test/test.size(0)*100)\n",
    "    \n",
    "\n"
   ]
  },
  {
   "cell_type": "code",
   "execution_count": 9,
   "id": "41532c6d",
   "metadata": {},
   "outputs": [
    {
     "name": "stdout",
     "output_type": "stream",
     "text": [
      "train mean: 2.41\n",
      "test mean : 2.5100000000000002\n"
     ]
    }
   ],
   "source": [
    "train_mean =  sum(train_results)/len(train_results)\n",
    "test_mean = sum(test_results)/len(test_results)\n",
    "\n",
    "print(\"train mean:\",train_mean)\n",
    "print(\"test mean :\",test_mean)"
   ]
  },
  {
   "cell_type": "code",
   "execution_count": 10,
   "id": "3e99f946",
   "metadata": {},
   "outputs": [
    {
     "name": "stdout",
     "output_type": "stream",
     "text": [
      "train smalest: 1.5\n",
      "test smalest : 1.7000000000000002\n"
     ]
    }
   ],
   "source": [
    "train_results.sort()\n",
    "test_results.sort()\n",
    "\n",
    "print(\"train smalest:\",train_results[0])\n",
    "print(\"test smalest :\",test_results[0])"
   ]
  },
  {
   "cell_type": "code",
   "execution_count": 11,
   "id": "7cb73b9d",
   "metadata": {},
   "outputs": [
    {
     "name": "stdout",
     "output_type": "stream",
     "text": [
      "train big: 3.5999999999999996\n",
      "test big : 3.6999999999999997\n"
     ]
    }
   ],
   "source": [
    "\n",
    "\n",
    "print(\"train big:\",train_results[9])\n",
    "print(\"test big :\",test_results[9])"
   ]
  },
  {
   "cell_type": "code",
   "execution_count": 12,
   "id": "ddba3536",
   "metadata": {},
   "outputs": [
    {
     "name": "stdout",
     "output_type": "stream",
     "text": [
      "train std: 0.6040695324215581\n",
      "test std : 0.6518435395092905\n"
     ]
    }
   ],
   "source": [
    "import numpy as np\n",
    "\n",
    "train_results = np.asarray(train_results)\n",
    "test_results = np.asarray(test_results)\n",
    "\n",
    "print(\"train std:\",train_results.std())\n",
    "print(\"test std :\",test_results.std())"
   ]
  },
  {
   "cell_type": "code",
   "execution_count": 14,
   "id": "7fdc48a9",
   "metadata": {},
   "outputs": [
    {
     "name": "stdout",
     "output_type": "stream",
     "text": [
      "epoch: 0\n",
      "Train Error :  50.33999999999999 %\n",
      "Test Error :  51.05 %\n",
      "\n",
      "epoch: 1\n",
      "Train Error :  7.010000000000001 %\n",
      "Test Error :  8.070000000000002 %\n",
      "\n",
      "epoch: 2\n",
      "Train Error :  8.169999999999998 %\n",
      "Test Error :  10.05 %\n",
      "\n",
      "epoch: 3\n",
      "Train Error :  5.5 %\n",
      "Test Error :  6.87 %\n",
      "\n",
      "epoch: 4\n",
      "Train Error :  6.470000000000001 %\n",
      "Test Error :  7.94 %\n",
      "\n",
      "epoch: 5\n",
      "Train Error :  5.930000000000001 %\n",
      "Test Error :  7.269999999999999 %\n",
      "\n",
      "epoch: 6\n",
      "Train Error :  4.62 %\n",
      "Test Error :  5.67 %\n",
      "\n",
      "epoch: 7\n",
      "Train Error :  4.15 %\n",
      "Test Error :  4.9399999999999995 %\n",
      "\n",
      "epoch: 8\n",
      "Train Error :  4.380000000000001 %\n",
      "Test Error :  5.140000000000001 %\n",
      "\n",
      "epoch: 9\n",
      "Train Error :  4.640000000000001 %\n",
      "Test Error :  5.550000000000002 %\n",
      "\n",
      "epoch: 10\n",
      "Train Error :  4.380000000000001 %\n",
      "Test Error :  4.81 %\n",
      "\n",
      "epoch: 11\n",
      "Train Error :  3.9200000000000004 %\n",
      "Test Error :  4.19 %\n",
      "\n",
      "epoch: 12\n",
      "Train Error :  2.9699999999999998 %\n",
      "Test Error :  3.7399999999999998 %\n",
      "\n",
      "epoch: 13\n",
      "Train Error :  3.7700000000000005 %\n",
      "Test Error :  4.2 %\n",
      "\n",
      "epoch: 14\n",
      "Train Error :  3.6700000000000004 %\n",
      "Test Error :  4.41 %\n",
      "\n",
      "epoch: 15\n",
      "Train Error :  4.390000000000001 %\n",
      "Test Error :  4.79 %\n",
      "\n",
      "epoch: 16\n",
      "Train Error :  3.5199999999999996 %\n",
      "Test Error :  4.17 %\n",
      "\n",
      "epoch: 17\n",
      "Train Error :  3.56 %\n",
      "Test Error :  4.48 %\n",
      "\n",
      "epoch: 18\n",
      "Train Error :  4.22 %\n",
      "Test Error :  4.779999999999999 %\n",
      "\n",
      "epoch: 19\n",
      "Train Error :  4.24 %\n",
      "Test Error :  5.040000000000001 %\n",
      "\n",
      "epoch: 20\n",
      "Train Error :  3.78 %\n",
      "Test Error :  4.409999999999999 %\n",
      "\n",
      "epoch: 21\n",
      "Train Error :  4.9399999999999995 %\n",
      "Test Error :  5.19 %\n",
      "\n",
      "epoch: 22\n",
      "Train Error :  4.5 %\n",
      "Test Error :  4.79 %\n",
      "\n",
      "epoch: 23\n",
      "Train Error :  3.6699999999999995 %\n",
      "Test Error :  4.470000000000001 %\n",
      "\n",
      "epoch: 24\n",
      "Train Error :  3.8 %\n",
      "Test Error :  4.23 %\n",
      "\n",
      "epoch: 25\n",
      "Train Error :  4.369999999999999 %\n",
      "Test Error :  4.85 %\n",
      "\n",
      "epoch: 26\n",
      "Train Error :  3.9300000000000006 %\n",
      "Test Error :  4.9799999999999995 %\n",
      "\n",
      "epoch: 27\n",
      "Train Error :  4.01 %\n",
      "Test Error :  4.720000000000001 %\n",
      "\n",
      "epoch: 28\n",
      "Train Error :  4.08 %\n",
      "Test Error :  4.9399999999999995 %\n",
      "\n",
      "epoch: 29\n",
      "Train Error :  4.47 %\n",
      "Test Error :  4.9799999999999995 %\n",
      "\n",
      "epoch: 30\n",
      "Train Error :  4.01 %\n",
      "Test Error :  4.829999999999999 %\n",
      "\n",
      "epoch: 31\n",
      "Train Error :  3.81 %\n",
      "Test Error :  4.4799999999999995 %\n",
      "\n",
      "epoch: 32\n",
      "Train Error :  3.8999999999999995 %\n",
      "Test Error :  4.75 %\n",
      "\n",
      "epoch: 33\n",
      "Train Error :  4.929999999999999 %\n",
      "Test Error :  5.3 %\n",
      "\n",
      "epoch: 34\n",
      "Train Error :  4.08 %\n",
      "Test Error :  4.789999999999999 %\n",
      "\n",
      "epoch: 35\n",
      "Train Error :  4.54 %\n",
      "Test Error :  5.420000000000001 %\n",
      "\n",
      "epoch: 36\n",
      "Train Error :  4.4 %\n",
      "Test Error :  4.91 %\n",
      "\n",
      "epoch: 37\n",
      "Train Error :  4.48 %\n",
      "Test Error :  4.970000000000001 %\n",
      "\n",
      "epoch: 38\n",
      "Train Error :  3.81 %\n",
      "Test Error :  4.64 %\n",
      "\n",
      "epoch: 39\n",
      "Train Error :  3.4899999999999998 %\n",
      "Test Error :  4.3999999999999995 %\n",
      "\n",
      "epoch: 40\n",
      "Train Error :  3.4799999999999995 %\n",
      "Test Error :  4.319999999999999 %\n",
      "\n",
      "epoch: 41\n",
      "Train Error :  4.9 %\n",
      "Test Error :  5.640000000000001 %\n",
      "\n",
      "epoch: 42\n",
      "Train Error :  3.7399999999999998 %\n",
      "Test Error :  4.63 %\n",
      "\n",
      "epoch: 43\n",
      "Train Error :  4.59 %\n",
      "Test Error :  4.84 %\n",
      "\n",
      "epoch: 44\n",
      "Train Error :  5.6 %\n",
      "Test Error :  5.55 %\n",
      "\n",
      "epoch: 45\n",
      "Train Error :  4.0 %\n",
      "Test Error :  4.590000000000002 %\n",
      "\n",
      "epoch: 46\n",
      "Train Error :  4.3500000000000005 %\n",
      "Test Error :  4.76 %\n",
      "\n",
      "epoch: 47\n",
      "Train Error :  3.85 %\n",
      "Test Error :  4.94 %\n",
      "\n",
      "epoch: 48\n",
      "Train Error :  4.65 %\n",
      "Test Error :  5.260000000000001 %\n",
      "\n",
      "epoch: 49\n",
      "Train Error :  5.029999999999999 %\n",
      "Test Error :  5.380000000000001 %\n",
      "\n"
     ]
    }
   ],
   "source": [
    "lr = 0.005 # learning rate\n",
    "\n",
    "list_epoch_train = []\n",
    "list_epoch_test = []\n",
    "for e in range(50):\n",
    "    train_results = []\n",
    "    test_results = []\n",
    "    print(\"epoch:\",e)\n",
    "    for i in range(10):   \n",
    "        \n",
    "        model = Project2_tools.Sequential(Project2_tools.Linear(2,25,weight_bias), Project2_tools.ReLU(),Project2_tools.Linear(25,25,weight_bias), Project2_tools.ReLU(),Project2_tools.Linear(25,25,weight_bias), Project2_tools.ReLU(),Project2_tools.Linear(25,1,weight_bias), Project2_tools.Tanh())\n",
    "\n",
    "        for j in range(e):\n",
    "            if lr_reduction and j%10 == 0:\n",
    "                lr = lr*0.85\n",
    "            loss = []\n",
    "            for k in range(int(train.size(0)/batch_size)):\n",
    "                for l in range(0, batch_size):\n",
    "                    output = model.forward(train[l+k*batch_size]) \n",
    "                    loss.append(mseLoss.forward(output, train_target[l+k*batch_size])) \n",
    "                    mseLoss_var = mseLoss.backward() \n",
    "                    model.backward(mseLoss_var) \n",
    "\n",
    "                model.Stock_Grad_Descent(lr) \n",
    "                model.zero_grad() \n",
    "            loss_mean = torch.mean(torch.tensor(loss)) \n",
    "\n",
    "\n",
    "        errors_train = compute_error(train,train_target)\n",
    "        errors_test = compute_error(test,test_target)\n",
    "\n",
    "\n",
    "        train_results.append(errors_train/train.size(0)*100)\n",
    "        test_results.append(errors_test/test.size(0)*100)\n",
    "    train_mean =  sum(train_results)/len(train_results)\n",
    "    test_mean = sum(test_results)/len(test_results)\n",
    "    print(\"Train Error : \",train_mean,\"%\")\n",
    "    print(\"Test Error : \",test_mean,\"%\")\n",
    "    print(\"\")\n",
    "    list_epoch_train.append(train_mean)\n",
    "    list_epoch_test.append(test_mean)\n",
    "        \n",
    "    "
   ]
  },
  {
   "cell_type": "code",
   "execution_count": 16,
   "id": "92f59b95",
   "metadata": {},
   "outputs": [
    {
     "data": {
      "image/png": "[encoded data removed]",
      "text/plain": [
       "<Figure size 432x288 with 1 Axes>"
      ]
     },
     "metadata": {
      "needs_background": "light"
     },
     "output_type": "display_data"
    }
   ],
   "source": [
    "\n",
    "\n",
    "plt.title(\"train perfomance \")\n",
    "plt.plot(list_epoch_train,  alpha=0.6, linewidth=4, color='turquoise')\n",
    "\n",
    "plt.ylabel(\"Error % (Avg over 10 runs)\")\n",
    "plt.xlabel(\"epoch\")\n",
    "\n",
    "plt.show()"
   ]
  },
  {
   "cell_type": "code",
   "execution_count": 17,
   "id": "5ae8f47c",
   "metadata": {},
   "outputs": [
    {
     "data": {
      "image/png": "[encoded data removed]",
      "text/plain": [
       "<Figure size 432x288 with 1 Axes>"
      ]
     },
     "metadata": {
      "needs_background": "light"
     },
     "output_type": "display_data"
    }
   ],
   "source": [
    "\n",
    "plt.title(\"test perfomance \")\n",
    "plt.plot(list_epoch_test,  alpha=0.6, linewidth=4, color='turquoise')\n",
    "\n",
    "plt.ylabel(\"Error % (Avg over 10 runs)\")\n",
    "plt.xlabel(\"epoch\")\n",
    "\n",
    "plt.show()"
   ]
  },
  {
   "cell_type": "code",
   "execution_count": null,
   "id": "fbb2327d",
   "metadata": {},
   "outputs": [],
   "source": []
  }
 ],
 "metadata": {
  "kernelspec": {
   "display_name": "Python 3 (ipykernel)",
   "language": "python",
   "name": "python3"
  },
  "language_info": {
   "codemirror_mode": {
    "name": "ipython",
    "version": 3
   },
   "file_extension": ".py",
   "mimetype": "text/x-python",
   "name": "python",
   "nbconvert_exporter": "python",
   "pygments_lexer": "ipython3",
   "version": "3.8.5"
  }
 },
 "nbformat": 4,
 "nbformat_minor": 5
}
