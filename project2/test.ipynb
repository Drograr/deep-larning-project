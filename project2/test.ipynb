{
 "cells": [
  {
   "cell_type": "code",
   "execution_count": 1,
   "id": "f90d7c29",
   "metadata": {},
   "outputs": [],
   "source": [
    "import torch\n",
    "import math\n",
    "from Project2_tools import *\n",
    "import matplotlib.pyplot as plt\n",
    "torch.set_grad_enabled(False)\n",
    "import Project2_tools"
   ]
  },
  {
   "cell_type": "code",
   "execution_count": 2,
   "id": "379889ee",
   "metadata": {},
   "outputs": [],
   "source": [
    "train_input, train_target = generate_set(1000)\n",
    "test_input, test_target = generate_set(1000)"
   ]
  },
  {
   "cell_type": "code",
   "execution_count": 3,
   "id": "bdbad992",
   "metadata": {},
   "outputs": [
    {
     "name": "stdout",
     "output_type": "stream",
     "text": [
      "tensor([[0.1305, 0.9627],\n",
      "        [0.7021, 0.0680],\n",
      "        [0.4448, 0.5816],\n",
      "        ...,\n",
      "        [0.4578, 0.4227],\n",
      "        [0.8616, 0.2766],\n",
      "        [0.5360, 0.1267]])\n"
     ]
    }
   ],
   "source": [
    "print(train_input)"
   ]
  },
  {
   "cell_type": "code",
   "execution_count": 4,
   "id": "22c49872",
   "metadata": {},
   "outputs": [
    {
     "name": "stdout",
     "output_type": "stream",
     "text": [
      "tensor([-1, -1,  1,  1,  1,  1, -1,  1, -1, -1, -1, -1, -1,  1,  1, -1, -1,  1,\n",
      "        -1,  1,  1, -1, -1,  1,  1,  1, -1,  1, -1, -1,  1, -1,  1, -1,  1,  1,\n",
      "        -1, -1, -1, -1,  1, -1, -1,  1, -1,  1,  1, -1,  1,  1, -1,  1, -1,  1,\n",
      "         1, -1,  1,  1,  1, -1,  1, -1, -1,  1, -1,  1, -1,  1,  1,  1,  1,  1,\n",
      "         1,  1,  1,  1, -1,  1,  1, -1,  1, -1, -1,  1,  1, -1, -1, -1,  1,  1,\n",
      "         1,  1,  1, -1, -1, -1, -1, -1, -1,  1,  1,  1, -1,  1,  1, -1,  1,  1,\n",
      "         1,  1, -1, -1, -1, -1, -1,  1, -1,  1,  1,  1, -1, -1,  1, -1, -1, -1,\n",
      "        -1,  1, -1,  1,  1, -1, -1, -1, -1, -1, -1,  1,  1,  1,  1, -1,  1, -1,\n",
      "         1, -1, -1, -1, -1, -1,  1,  1,  1, -1, -1, -1,  1,  1,  1, -1,  1,  1,\n",
      "         1, -1, -1, -1,  1,  1,  1, -1, -1,  1, -1,  1, -1, -1,  1,  1, -1,  1,\n",
      "         1, -1,  1, -1,  1, -1,  1, -1,  1, -1,  1, -1,  1,  1, -1,  1,  1,  1,\n",
      "         1, -1, -1,  1, -1,  1, -1,  1, -1, -1, -1,  1, -1, -1,  1, -1,  1,  1,\n",
      "        -1, -1,  1, -1,  1, -1,  1, -1, -1, -1,  1, -1, -1,  1, -1,  1,  1,  1,\n",
      "         1,  1,  1, -1,  1,  1,  1,  1, -1, -1,  1, -1, -1,  1, -1, -1,  1, -1,\n",
      "        -1, -1, -1,  1,  1, -1,  1, -1,  1, -1,  1,  1, -1, -1,  1, -1,  1, -1,\n",
      "         1, -1,  1, -1,  1,  1,  1,  1,  1, -1,  1,  1,  1, -1, -1,  1,  1, -1,\n",
      "        -1, -1,  1,  1,  1, -1, -1,  1, -1, -1,  1,  1,  1, -1, -1,  1,  1,  1,\n",
      "        -1, -1,  1,  1, -1,  1,  1,  1, -1,  1, -1,  1,  1,  1, -1, -1, -1,  1,\n",
      "         1, -1, -1,  1, -1, -1,  1, -1, -1,  1, -1,  1,  1,  1,  1, -1, -1, -1,\n",
      "         1, -1, -1, -1,  1,  1, -1, -1, -1, -1, -1,  1, -1,  1, -1, -1, -1,  1,\n",
      "        -1,  1, -1, -1,  1,  1, -1,  1,  1, -1, -1, -1,  1, -1, -1, -1,  1,  1,\n",
      "        -1, -1, -1,  1, -1, -1, -1, -1, -1, -1,  1,  1,  1, -1,  1, -1,  1, -1,\n",
      "         1,  1,  1, -1, -1, -1, -1,  1, -1,  1, -1,  1,  1,  1, -1,  1, -1,  1,\n",
      "        -1,  1,  1, -1,  1,  1, -1,  1, -1, -1,  1, -1,  1, -1,  1,  1, -1,  1,\n",
      "         1,  1,  1,  1,  1,  1, -1, -1, -1, -1,  1, -1,  1, -1, -1,  1, -1,  1,\n",
      "         1,  1,  1,  1, -1, -1, -1, -1, -1, -1, -1, -1,  1,  1, -1,  1,  1,  1,\n",
      "        -1, -1,  1,  1,  1,  1,  1, -1,  1,  1,  1,  1, -1, -1, -1,  1, -1,  1,\n",
      "         1,  1,  1,  1, -1, -1,  1, -1, -1,  1,  1, -1,  1, -1, -1, -1,  1, -1,\n",
      "        -1, -1,  1, -1, -1, -1,  1, -1, -1,  1,  1,  1,  1,  1, -1, -1, -1,  1,\n",
      "         1, -1,  1,  1,  1, -1,  1, -1,  1,  1,  1, -1, -1, -1,  1,  1, -1, -1,\n",
      "        -1,  1, -1,  1,  1,  1, -1, -1, -1, -1,  1,  1,  1, -1, -1,  1, -1,  1,\n",
      "         1, -1,  1, -1,  1,  1,  1, -1,  1,  1,  1, -1, -1, -1, -1,  1, -1, -1,\n",
      "        -1, -1, -1,  1, -1, -1,  1,  1,  1, -1, -1, -1, -1, -1,  1, -1,  1, -1,\n",
      "        -1, -1, -1, -1, -1, -1,  1, -1,  1, -1, -1,  1,  1, -1,  1, -1,  1,  1,\n",
      "        -1,  1, -1,  1,  1,  1, -1,  1, -1, -1,  1, -1,  1,  1, -1,  1, -1, -1,\n",
      "         1,  1, -1,  1,  1,  1,  1, -1, -1,  1,  1, -1,  1, -1, -1,  1,  1, -1,\n",
      "         1,  1,  1, -1,  1, -1,  1,  1,  1,  1, -1,  1, -1,  1, -1,  1,  1, -1,\n",
      "         1,  1,  1, -1, -1, -1, -1, -1,  1, -1, -1,  1,  1,  1, -1, -1, -1,  1,\n",
      "         1, -1,  1,  1, -1,  1,  1,  1,  1, -1,  1,  1,  1,  1,  1, -1,  1,  1,\n",
      "        -1, -1, -1,  1, -1,  1, -1,  1,  1,  1, -1,  1, -1,  1, -1,  1, -1,  1,\n",
      "        -1, -1, -1, -1,  1, -1,  1,  1, -1, -1, -1,  1, -1, -1,  1, -1,  1,  1,\n",
      "        -1,  1, -1,  1,  1,  1,  1,  1,  1, -1,  1, -1,  1, -1,  1, -1,  1,  1,\n",
      "        -1, -1, -1, -1,  1, -1, -1, -1, -1,  1, -1, -1, -1,  1, -1,  1, -1, -1,\n",
      "        -1, -1,  1,  1,  1,  1,  1,  1, -1, -1, -1,  1, -1, -1,  1,  1, -1, -1,\n",
      "         1, -1,  1, -1, -1,  1, -1, -1,  1,  1, -1,  1, -1, -1, -1, -1,  1,  1,\n",
      "         1,  1, -1, -1, -1,  1,  1,  1, -1,  1,  1, -1,  1,  1, -1,  1, -1, -1,\n",
      "         1,  1, -1, -1, -1, -1,  1, -1,  1, -1, -1, -1, -1, -1, -1,  1,  1, -1,\n",
      "         1, -1, -1, -1,  1,  1,  1,  1,  1, -1,  1,  1,  1, -1,  1,  1, -1,  1,\n",
      "         1,  1,  1, -1,  1,  1,  1,  1,  1, -1, -1,  1,  1, -1, -1,  1, -1,  1,\n",
      "         1, -1, -1,  1,  1,  1, -1,  1,  1, -1,  1, -1,  1,  1,  1,  1, -1,  1,\n",
      "         1,  1,  1, -1,  1,  1,  1, -1, -1, -1,  1, -1,  1, -1, -1,  1, -1,  1,\n",
      "         1,  1, -1, -1, -1, -1, -1,  1,  1,  1,  1, -1, -1, -1,  1,  1,  1, -1,\n",
      "        -1,  1,  1,  1,  1,  1,  1,  1, -1,  1, -1,  1, -1, -1,  1, -1,  1, -1,\n",
      "         1,  1,  1,  1, -1,  1,  1, -1,  1,  1, -1,  1, -1,  1, -1, -1, -1, -1,\n",
      "         1,  1,  1,  1, -1,  1,  1, -1,  1,  1,  1, -1,  1,  1, -1, -1, -1,  1,\n",
      "        -1,  1,  1,  1, -1,  1, -1,  1, -1,  1])\n"
     ]
    }
   ],
   "source": [
    "print(train_target)"
   ]
  },
  {
   "cell_type": "code",
   "execution_count": 5,
   "id": "47c73f84",
   "metadata": {},
   "outputs": [],
   "source": [
    "#better results with normalosation\n",
    "mean = train_input.mean()\n",
    "std = train_input.std()\n",
    "train_input = train_input-mean\n",
    "train_input = train_input/std\n",
    "test_input = test_input-mean\n",
    "test_input = test_input/std\n"
   ]
  },
  {
   "cell_type": "code",
   "execution_count": 6,
   "id": "9d86b649",
   "metadata": {},
   "outputs": [],
   "source": [
    "lr_reduction = 0\n",
    "mseLoss = Project2_tools.MSE()\n",
    "weight_bias = 0.5\n",
    "epoch = 50\n",
    "batch_size = 1\n",
    "rounds = 5\n",
    "\n"
   ]
  },
  {
   "cell_type": "code",
   "execution_count": 11,
   "id": "8a8efcfd",
   "metadata": {},
   "outputs": [],
   "source": [
    "def compute_error(input,target):\n",
    "    nb_errors = 0\n",
    "    for b in range(0, input.size(0)):\n",
    "        output = model.forward(input[b])\n",
    "        if ((output < 0 and target[b] == 1) or (output >= 0 and target[b] == -1)):\n",
    "            nb_errors += 1 \n",
    "    return nb_errors"
   ]
  },
  {
   "cell_type": "code",
   "execution_count": 12,
   "id": "17888c7f",
   "metadata": {},
   "outputs": [
    {
     "name": "stdout",
     "output_type": "stream",
     "text": [
      "round: 0\n",
      "Train Error :  1.3 %\n",
      "Test Error :  2.6 %\n",
      "\n",
      "round: 1\n",
      "Train Error :  1.6 %\n",
      "Test Error :  3.0 %\n",
      "\n",
      "round: 2\n",
      "Train Error :  2.8000000000000003 %\n",
      "Test Error :  3.2 %\n",
      "\n",
      "round: 3\n",
      "Train Error :  1.3 %\n",
      "Test Error :  2.9000000000000004 %\n",
      "\n",
      "round: 4\n",
      "Train Error :  0.8999999999999999 %\n",
      "Test Error :  2.7 %\n",
      "\n"
     ]
    }
   ],
   "source": [
    "\n",
    "lr = 0.005 # learning rate\n",
    "train_results = []\n",
    "test_results = []\n",
    "for i in range(rounds):   \n",
    "    print(\"round:\",i)\n",
    "    model = Project2_tools.Sequential(Project2_tools.Linear(2,25,weight_bias), Project2_tools.ReLU(),Project2_tools.Linear(25,25,weight_bias), Project2_tools.ReLU(),Project2_tools.Linear(25,25,weight_bias), Project2_tools.ReLU(),Project2_tools.Linear(25,1,weight_bias), Project2_tools.Tanh())\n",
    "\n",
    "    for j in range(epoch):\n",
    "        if lr_reduction and j%10 == 0:\n",
    "            lr = lr*0.85\n",
    "        loss = []\n",
    "        for b in range(int(train_input.size(0)/batch_size)):\n",
    "            for i in range(0, batch_size):\n",
    "                output = model.forward(train_input[i+b*batch_size]) \n",
    "                loss.append(mseLoss.forward(output, train_target[i+b*batch_size])) \n",
    "                mseLoss_var = mseLoss.backward() \n",
    "                model.backward(mseLoss_var) \n",
    "\n",
    "            model.Stock_Grad_Descent(lr) \n",
    "            model.zero_grad() \n",
    "        loss_mean = torch.mean(torch.tensor(loss)) \n",
    "\n",
    "\n",
    "    nb_errors_train = compute_error(train_input,train_target)\n",
    "    nb_errors_test = compute_error(test_input,test_target)\n",
    "    \n",
    "    \n",
    "    print(\"Train Error : \",nb_errors_train/train_input.size(0)*100,\"%\")\n",
    "    print(\"Test Error : \",nb_errors_test/test_input.size(0)*100,\"%\")\n",
    "    print(\"\")\n",
    "    train_results.append(nb_errors_train/train_input.size(0)*100)\n",
    "    test_results.append(nb_errors_test/test_input.size(0)*100)\n",
    "    \n",
    "\n"
   ]
  },
  {
   "cell_type": "code",
   "execution_count": 13,
   "id": "41532c6d",
   "metadata": {},
   "outputs": [
    {
     "name": "stdout",
     "output_type": "stream",
     "text": [
      "train mean: 1.58\n",
      "test mean : 2.8800000000000003\n"
     ]
    }
   ],
   "source": [
    "train_mean =  sum(train_results)/len(train_results)\n",
    "test_mean = sum(test_results)/len(test_results)\n",
    "\n",
    "print(\"train mean:\",train_mean)\n",
    "print(\"test mean :\",test_mean)"
   ]
  },
  {
   "cell_type": "code",
   "execution_count": 14,
   "id": "3e99f946",
   "metadata": {},
   "outputs": [
    {
     "name": "stdout",
     "output_type": "stream",
     "text": [
      "train smalest: 0.8999999999999999\n",
      "test smalest : 2.6\n"
     ]
    }
   ],
   "source": [
    "train_results.sort()\n",
    "test_results.sort()\n",
    "\n",
    "print(\"train smalest:\",train_results[0])\n",
    "print(\"test smalest :\",test_results[0])"
   ]
  },
  {
   "cell_type": "code",
   "execution_count": null,
   "id": "7fdc48a9",
   "metadata": {},
   "outputs": [],
   "source": []
  }
 ],
 "metadata": {
  "kernelspec": {
   "display_name": "Python 3 (ipykernel)",
   "language": "python",
   "name": "python3"
  },
  "language_info": {
   "codemirror_mode": {
    "name": "ipython",
    "version": 3
   },
   "file_extension": ".py",
   "mimetype": "text/x-python",
   "name": "python",
   "nbconvert_exporter": "python",
   "pygments_lexer": "ipython3",
   "version": "3.8.5"
  }
 },
 "nbformat": 4,
 "nbformat_minor": 5
}
