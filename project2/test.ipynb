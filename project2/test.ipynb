{
 "cells": [
  {
   "cell_type": "code",
   "execution_count": 1,
   "id": "f90d7c29",
   "metadata": {},
   "outputs": [],
   "source": [
    "import torch\n",
    "import math\n",
    "from Project2_tools import *\n",
    "import matplotlib.pyplot as plt\n",
    "torch.set_grad_enabled(False)\n",
    "import Project2_tools"
   ]
  },
  {
   "cell_type": "code",
   "execution_count": 2,
   "id": "379889ee",
   "metadata": {},
   "outputs": [],
   "source": [
    "train_input, train_target = generate_set(1000)\n",
    "train_target[train_target==0] = -1\n",
    "test_input, test_target = generate_set(1000)\n",
    "test_target[test_target==0] = -1"
   ]
  },
  {
   "cell_type": "code",
   "execution_count": 3,
   "id": "bdbad992",
   "metadata": {},
   "outputs": [
    {
     "name": "stdout",
     "output_type": "stream",
     "text": [
      "tensor([[0.2753, 0.9349],\n",
      "        [0.7840, 0.6511],\n",
      "        [0.7257, 0.3798],\n",
      "        ...,\n",
      "        [0.4123, 0.0610],\n",
      "        [0.1885, 0.9994],\n",
      "        [0.8156, 0.0443]])\n"
     ]
    }
   ],
   "source": [
    "print(train_input)"
   ]
  },
  {
   "cell_type": "code",
   "execution_count": 4,
   "id": "22c49872",
   "metadata": {},
   "outputs": [],
   "source": [
    "#print(train_target)"
   ]
  },
  {
   "cell_type": "code",
   "execution_count": 5,
   "id": "9d86b649",
   "metadata": {},
   "outputs": [],
   "source": [
    "lr_reduction = 0\n",
    "mseLoss = Project2_tools.MSE()\n",
    "weight_bias = 0.5\n",
    "epoch = 50\n",
    "mini_batch_size = 1\n",
    "iter = 10\n",
    "\n",
    "\n"
   ]
  },
  {
   "cell_type": "code",
   "execution_count": 8,
   "id": "8a8efcfd",
   "metadata": {},
   "outputs": [],
   "source": [
    "def compute_error(input,target):\n",
    "    nb_errors = 0\n",
    "    for b in range(0, input.size(0)):\n",
    "        output = model.train_forward(input[b])\n",
    "        if ((output < 0 and target[b] == 1) or (output >= 0 and target[b] == -1)):\n",
    "            nb_errors += 1 \n",
    "    return nb_errors"
   ]
  },
  {
   "cell_type": "code",
   "execution_count": null,
   "id": "17888c7f",
   "metadata": {},
   "outputs": [],
   "source": [
    "\n",
    "lr = 0.005 # learning rate\n",
    "\n",
    "   \n",
    "\n",
    "model = Project2_tools.Sequential(Project2_tools.Linear(2,25,weight_bias), Project2_tools.ReLU(),Project2_tools.Linear(25,25,weight_bias), Project2_tools.ReLU(),Project2_tools.Linear(25,25,weight_bias), Project2_tools.ReLU(),Project2_tools.Linear(25,1,weight_bias), Project2_tools.Tanh())\n",
    "\n",
    "for e in range(epoch):\n",
    "    if lr_reduction and e%10 == 0:\n",
    "        lr = lr*85/100\n",
    "    loss = []\n",
    "    for b in range(int(train_input.size(0)/mini_batch_size)):\n",
    "        for i in range(0, mini_batch_size):\n",
    "            output = model.train_forward(train_input[i+b*mini_batch_size]) \n",
    "            loss.append(mseLoss.forward(output, train_target[i+b*mini_batch_size])) \n",
    "            mseLoss_var = mseLoss.backward() \n",
    "            model.backward(mseLoss_var) \n",
    "            \n",
    "        model.Stock_Grad_Descent(lr) \n",
    "        model.zero_grad() \n",
    "    loss_mean = torch.mean(torch.tensor(loss)) \n",
    "    \n",
    "\n",
    "nb_errors_train = compute_error(train_input,train_target)\n",
    "nb_errors_test = compute_error(test_input,test_target)\n",
    "train_errors = nb_errors_train/train_input.size(0)*100\n",
    "test_errors = nb_errors_test/test_input.size(0)*100\n",
    "print(\"Train Error : {}%\".format(train_errors))\n",
    "print(\"Test Error : {}%\".format(test_errors))\n",
    "\n"
   ]
  },
  {
   "cell_type": "code",
   "execution_count": null,
   "id": "41532c6d",
   "metadata": {},
   "outputs": [],
   "source": []
  }
 ],
 "metadata": {
  "kernelspec": {
   "display_name": "Python 3 (ipykernel)",
   "language": "python",
   "name": "python3"
  },
  "language_info": {
   "codemirror_mode": {
    "name": "ipython",
    "version": 3
   },
   "file_extension": ".py",
   "mimetype": "text/x-python",
   "name": "python",
   "nbconvert_exporter": "python",
   "pygments_lexer": "ipython3",
   "version": "3.8.5"
  }
 },
 "nbformat": 4,
 "nbformat_minor": 5
}
